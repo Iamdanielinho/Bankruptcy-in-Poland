{
 "cells": [
  {
   "cell_type": "code",
   "execution_count": 49,
   "id": "d655a361-0dd6-4e26-8d72-50479c8505b3",
   "metadata": {},
   "outputs": [],
   "source": [
    "import pandas as pd\n",
    "import numpy as np\n",
    "import seaborn as sns\n",
    "import matplotlib.pyplot as plt\n",
    "from glob import glob\n",
    "import pickle"
   ]
  },
  {
   "cell_type": "code",
   "execution_count": 2,
   "id": "0df4fe85-a165-4537-8d17-9252dec84c0f",
   "metadata": {},
   "outputs": [],
   "source": [
    " def wrangle(path):\n",
    "        # Read csv file\n",
    "        df = pd.read_csv(path)\n",
    "        \n",
    "        # Changing object cols to numeric cols\n",
    "        cols = df.columns[df.dtypes.eq('object')]\n",
    "        df[cols] = df[cols].apply(pd.to_numeric, errors='coerce')\n",
    "        \n",
    "        \n",
    "        return df"
   ]
  },
  {
   "cell_type": "code",
   "execution_count": 3,
   "id": "9f9d6ad1-0409-4392-918b-124f02ccde0b",
   "metadata": {},
   "outputs": [
    {
     "data": {
      "text/plain": [
       "['1year.csv', '2year.csv', '3year.csv', '4year.csv', '5year.csv']"
      ]
     },
     "execution_count": 3,
     "metadata": {},
     "output_type": "execute_result"
    }
   ],
   "source": [
    "glob('*year.csv')"
   ]
  },
  {
   "cell_type": "code",
   "execution_count": 4,
   "id": "afe15340-cc51-4c19-b9d5-b7b419c2fbde",
   "metadata": {},
   "outputs": [],
   "source": [
    "files = glob('*year.csv')"
   ]
  },
  {
   "cell_type": "code",
   "execution_count": 5,
   "id": "27a6f38c-bfe4-4525-bb0b-e4df5790ff79",
   "metadata": {},
   "outputs": [
    {
     "name": "stderr",
     "output_type": "stream",
     "text": [
      "C:\\Users\\USER\\AppData\\Local\\Temp\\ipykernel_12684\\1973106935.py:3: DtypeWarning: Columns (0,1,2,5,6,8,9,10,13,17,21,23,24,28,34,35,37,47,50,54,56,58) have mixed types. Specify dtype option on import or set low_memory=False.\n",
      "  df = pd.read_csv(path)\n",
      "C:\\Users\\USER\\AppData\\Local\\Temp\\ipykernel_12684\\1973106935.py:3: DtypeWarning: Columns (14,23) have mixed types. Specify dtype option on import or set low_memory=False.\n",
      "  df = pd.read_csv(path)\n",
      "C:\\Users\\USER\\AppData\\Local\\Temp\\ipykernel_12684\\1973106935.py:3: DtypeWarning: Columns (0,1,2,5,6,7,9,10,13,14,15,16,17,21,23,24,25,28,33,34,35,37,47,49,50,56,58) have mixed types. Specify dtype option on import or set low_memory=False.\n",
      "  df = pd.read_csv(path)\n"
     ]
    }
   ],
   "source": [
    "df =[wrangle(file) for file in files]"
   ]
  },
  {
   "cell_type": "code",
   "execution_count": 6,
   "id": "23bf182b-d515-4ff5-b71f-fa5bdf7535fd",
   "metadata": {},
   "outputs": [],
   "source": [
    "df = pd.concat(df, ignore_index=True)"
   ]
  },
  {
   "cell_type": "code",
   "execution_count": 7,
   "id": "cf0cb96e-7d8b-464e-8472-a372e31da070",
   "metadata": {},
   "outputs": [
    {
     "data": {
      "text/plain": [
       "(42627, 65)"
      ]
     },
     "execution_count": 7,
     "metadata": {},
     "output_type": "execute_result"
    }
   ],
   "source": [
    "df.shape"
   ]
  },
  {
   "cell_type": "code",
   "execution_count": 8,
   "id": "00db0a15-5fa1-4f34-b765-ea654bdbd23f",
   "metadata": {},
   "outputs": [
    {
     "data": {
      "text/html": [
       "<div>\n",
       "<style scoped>\n",
       "    .dataframe tbody tr th:only-of-type {\n",
       "        vertical-align: middle;\n",
       "    }\n",
       "\n",
       "    .dataframe tbody tr th {\n",
       "        vertical-align: top;\n",
       "    }\n",
       "\n",
       "    .dataframe thead th {\n",
       "        text-align: right;\n",
       "    }\n",
       "</style>\n",
       "<table border=\"1\" class=\"dataframe\">\n",
       "  <thead>\n",
       "    <tr style=\"text-align: right;\">\n",
       "      <th></th>\n",
       "      <th>Attr1</th>\n",
       "      <th>Attr2</th>\n",
       "      <th>Attr3</th>\n",
       "      <th>Attr4</th>\n",
       "      <th>Attr5</th>\n",
       "      <th>Attr6</th>\n",
       "      <th>Attr7</th>\n",
       "      <th>Attr8</th>\n",
       "      <th>Attr9</th>\n",
       "      <th>Attr10</th>\n",
       "      <th>...</th>\n",
       "      <th>Attr56</th>\n",
       "      <th>Attr57</th>\n",
       "      <th>Attr58</th>\n",
       "      <th>Attr59</th>\n",
       "      <th>Attr60</th>\n",
       "      <th>Attr61</th>\n",
       "      <th>Attr62</th>\n",
       "      <th>Attr63</th>\n",
       "      <th>Attr64</th>\n",
       "      <th>class</th>\n",
       "    </tr>\n",
       "  </thead>\n",
       "  <tbody>\n",
       "    <tr>\n",
       "      <th>0</th>\n",
       "      <td>0.200550</td>\n",
       "      <td>0.37951</td>\n",
       "      <td>0.39641</td>\n",
       "      <td>2.0472</td>\n",
       "      <td>32.3510</td>\n",
       "      <td>0.38825</td>\n",
       "      <td>0.249760</td>\n",
       "      <td>1.33050</td>\n",
       "      <td>1.1389</td>\n",
       "      <td>0.50494</td>\n",
       "      <td>...</td>\n",
       "      <td>0.121960</td>\n",
       "      <td>0.39718</td>\n",
       "      <td>0.87804</td>\n",
       "      <td>0.001924</td>\n",
       "      <td>8.4160</td>\n",
       "      <td>5.1372</td>\n",
       "      <td>82.658</td>\n",
       "      <td>4.4158</td>\n",
       "      <td>7.4277</td>\n",
       "      <td>0</td>\n",
       "    </tr>\n",
       "    <tr>\n",
       "      <th>1</th>\n",
       "      <td>0.209120</td>\n",
       "      <td>0.49988</td>\n",
       "      <td>0.47225</td>\n",
       "      <td>1.9447</td>\n",
       "      <td>14.7860</td>\n",
       "      <td>0.00000</td>\n",
       "      <td>0.258340</td>\n",
       "      <td>0.99601</td>\n",
       "      <td>1.6996</td>\n",
       "      <td>0.49788</td>\n",
       "      <td>...</td>\n",
       "      <td>0.121300</td>\n",
       "      <td>0.42002</td>\n",
       "      <td>0.85300</td>\n",
       "      <td>0.000000</td>\n",
       "      <td>4.1486</td>\n",
       "      <td>3.2732</td>\n",
       "      <td>107.350</td>\n",
       "      <td>3.4000</td>\n",
       "      <td>60.9870</td>\n",
       "      <td>0</td>\n",
       "    </tr>\n",
       "    <tr>\n",
       "      <th>2</th>\n",
       "      <td>0.248660</td>\n",
       "      <td>0.69592</td>\n",
       "      <td>0.26713</td>\n",
       "      <td>1.5548</td>\n",
       "      <td>-1.1523</td>\n",
       "      <td>0.00000</td>\n",
       "      <td>0.309060</td>\n",
       "      <td>0.43695</td>\n",
       "      <td>1.3090</td>\n",
       "      <td>0.30408</td>\n",
       "      <td>...</td>\n",
       "      <td>0.241140</td>\n",
       "      <td>0.81774</td>\n",
       "      <td>0.76599</td>\n",
       "      <td>0.694840</td>\n",
       "      <td>4.9909</td>\n",
       "      <td>3.9510</td>\n",
       "      <td>134.270</td>\n",
       "      <td>2.7185</td>\n",
       "      <td>5.2078</td>\n",
       "      <td>0</td>\n",
       "    </tr>\n",
       "    <tr>\n",
       "      <th>3</th>\n",
       "      <td>0.081483</td>\n",
       "      <td>0.30734</td>\n",
       "      <td>0.45879</td>\n",
       "      <td>2.4928</td>\n",
       "      <td>51.9520</td>\n",
       "      <td>0.14988</td>\n",
       "      <td>0.092704</td>\n",
       "      <td>1.86610</td>\n",
       "      <td>1.0571</td>\n",
       "      <td>0.57353</td>\n",
       "      <td>...</td>\n",
       "      <td>0.054015</td>\n",
       "      <td>0.14207</td>\n",
       "      <td>0.94598</td>\n",
       "      <td>0.000000</td>\n",
       "      <td>4.5746</td>\n",
       "      <td>3.6147</td>\n",
       "      <td>86.435</td>\n",
       "      <td>4.2228</td>\n",
       "      <td>5.5497</td>\n",
       "      <td>0</td>\n",
       "    </tr>\n",
       "    <tr>\n",
       "      <th>4</th>\n",
       "      <td>0.187320</td>\n",
       "      <td>0.61323</td>\n",
       "      <td>0.22960</td>\n",
       "      <td>1.4063</td>\n",
       "      <td>-7.3128</td>\n",
       "      <td>0.18732</td>\n",
       "      <td>0.187320</td>\n",
       "      <td>0.63070</td>\n",
       "      <td>1.1559</td>\n",
       "      <td>0.38677</td>\n",
       "      <td>...</td>\n",
       "      <td>0.134850</td>\n",
       "      <td>0.48431</td>\n",
       "      <td>0.86515</td>\n",
       "      <td>0.124440</td>\n",
       "      <td>6.3985</td>\n",
       "      <td>4.3158</td>\n",
       "      <td>127.210</td>\n",
       "      <td>2.8692</td>\n",
       "      <td>7.8980</td>\n",
       "      <td>0</td>\n",
       "    </tr>\n",
       "  </tbody>\n",
       "</table>\n",
       "<p>5 rows × 65 columns</p>\n",
       "</div>"
      ],
      "text/plain": [
       "      Attr1    Attr2    Attr3   Attr4    Attr5    Attr6     Attr7    Attr8  \\\n",
       "0  0.200550  0.37951  0.39641  2.0472  32.3510  0.38825  0.249760  1.33050   \n",
       "1  0.209120  0.49988  0.47225  1.9447  14.7860  0.00000  0.258340  0.99601   \n",
       "2  0.248660  0.69592  0.26713  1.5548  -1.1523  0.00000  0.309060  0.43695   \n",
       "3  0.081483  0.30734  0.45879  2.4928  51.9520  0.14988  0.092704  1.86610   \n",
       "4  0.187320  0.61323  0.22960  1.4063  -7.3128  0.18732  0.187320  0.63070   \n",
       "\n",
       "    Attr9   Attr10  ...    Attr56   Attr57   Attr58    Attr59  Attr60  Attr61  \\\n",
       "0  1.1389  0.50494  ...  0.121960  0.39718  0.87804  0.001924  8.4160  5.1372   \n",
       "1  1.6996  0.49788  ...  0.121300  0.42002  0.85300  0.000000  4.1486  3.2732   \n",
       "2  1.3090  0.30408  ...  0.241140  0.81774  0.76599  0.694840  4.9909  3.9510   \n",
       "3  1.0571  0.57353  ...  0.054015  0.14207  0.94598  0.000000  4.5746  3.6147   \n",
       "4  1.1559  0.38677  ...  0.134850  0.48431  0.86515  0.124440  6.3985  4.3158   \n",
       "\n",
       "    Attr62  Attr63   Attr64  class  \n",
       "0   82.658  4.4158   7.4277      0  \n",
       "1  107.350  3.4000  60.9870      0  \n",
       "2  134.270  2.7185   5.2078      0  \n",
       "3   86.435  4.2228   5.5497      0  \n",
       "4  127.210  2.8692   7.8980      0  \n",
       "\n",
       "[5 rows x 65 columns]"
      ]
     },
     "execution_count": 8,
     "metadata": {},
     "output_type": "execute_result"
    }
   ],
   "source": [
    "df.head()"
   ]
  },
  {
   "cell_type": "code",
   "execution_count": 9,
   "id": "c8fa83b8-366e-4d3a-8991-140a4bb163f3",
   "metadata": {},
   "outputs": [
    {
     "name": "stdout",
     "output_type": "stream",
     "text": [
      "<class 'pandas.core.frame.DataFrame'>\n",
      "RangeIndex: 42627 entries, 0 to 42626\n",
      "Data columns (total 65 columns):\n",
      " #   Column  Non-Null Count  Dtype  \n",
      "---  ------  --------------  -----  \n",
      " 0   Attr1   42619 non-null  float64\n",
      " 1   Attr2   42619 non-null  float64\n",
      " 2   Attr3   42619 non-null  float64\n",
      " 3   Attr4   42494 non-null  float64\n",
      " 4   Attr5   42540 non-null  float64\n",
      " 5   Attr6   42619 non-null  float64\n",
      " 6   Attr7   42619 non-null  float64\n",
      " 7   Attr8   42533 non-null  float64\n",
      " 8   Attr9   42618 non-null  float64\n",
      " 9   Attr10  42619 non-null  float64\n",
      " 10  Attr11  42584 non-null  float64\n",
      " 11  Attr12  42494 non-null  float64\n",
      " 12  Attr13  42501 non-null  float64\n",
      " 13  Attr14  42619 non-null  float64\n",
      " 14  Attr15  42591 non-null  float64\n",
      " 15  Attr16  42532 non-null  float64\n",
      " 16  Attr17  42533 non-null  float64\n",
      " 17  Attr18  42619 non-null  float64\n",
      " 18  Attr19  42500 non-null  float64\n",
      " 19  Attr20  42501 non-null  float64\n",
      " 20  Attr21  36784 non-null  float64\n",
      " 21  Attr22  42619 non-null  float64\n",
      " 22  Attr23  42501 non-null  float64\n",
      " 23  Attr24  41976 non-null  float64\n",
      " 24  Attr25  42619 non-null  float64\n",
      " 25  Attr26  42532 non-null  float64\n",
      " 26  Attr27  39909 non-null  float64\n",
      " 27  Attr28  41829 non-null  float64\n",
      " 28  Attr29  42619 non-null  float64\n",
      " 29  Attr30  42501 non-null  float64\n",
      " 30  Attr31  42501 non-null  float64\n",
      " 31  Attr32  42266 non-null  float64\n",
      " 32  Attr33  42494 non-null  float64\n",
      " 33  Attr34  42533 non-null  float64\n",
      " 34  Attr35  42619 non-null  float64\n",
      " 35  Attr36  42619 non-null  float64\n",
      " 36  Attr37  23984 non-null  float64\n",
      " 37  Attr38  42619 non-null  float64\n",
      " 38  Attr39  42501 non-null  float64\n",
      " 39  Attr40  42494 non-null  float64\n",
      " 40  Attr41  41884 non-null  float64\n",
      " 41  Attr42  42501 non-null  float64\n",
      " 42  Attr43  42501 non-null  float64\n",
      " 43  Attr44  42501 non-null  float64\n",
      " 44  Attr45  40499 non-null  float64\n",
      " 45  Attr46  42493 non-null  float64\n",
      " 46  Attr47  42336 non-null  float64\n",
      " 47  Attr48  42618 non-null  float64\n",
      " 48  Attr49  42501 non-null  float64\n",
      " 49  Attr50  42533 non-null  float64\n",
      " 50  Attr51  42619 non-null  float64\n",
      " 51  Attr52  42332 non-null  float64\n",
      " 52  Attr53  41829 non-null  float64\n",
      " 53  Attr54  41829 non-null  float64\n",
      " 54  Attr55  42626 non-null  float64\n",
      " 55  Attr56  42501 non-null  float64\n",
      " 56  Attr57  42620 non-null  float64\n",
      " 57  Attr58  42544 non-null  float64\n",
      " 58  Attr59  42620 non-null  float64\n",
      " 59  Attr60  40494 non-null  float64\n",
      " 60  Attr61  42527 non-null  float64\n",
      " 61  Attr62  42501 non-null  float64\n",
      " 62  Attr63  42494 non-null  float64\n",
      " 63  Attr64  41829 non-null  float64\n",
      " 64  class   42627 non-null  int64  \n",
      "dtypes: float64(64), int64(1)\n",
      "memory usage: 21.1 MB\n"
     ]
    }
   ],
   "source": [
    "df.info()"
   ]
  },
  {
   "cell_type": "code",
   "execution_count": 10,
   "id": "21603d47-5557-46ff-9607-1dd773b64269",
   "metadata": {},
   "outputs": [
    {
     "data": {
      "text/plain": [
       "array([0, 1], dtype=int64)"
      ]
     },
     "execution_count": 10,
     "metadata": {},
     "output_type": "execute_result"
    }
   ],
   "source": [
    "df['class'].unique()"
   ]
  },
  {
   "cell_type": "code",
   "execution_count": 11,
   "id": "2576facc-97e2-4422-9f2a-8b1b887b52ed",
   "metadata": {},
   "outputs": [
    {
     "data": {
      "image/png": "[encoded data removed]",
      "text/plain": [
       "<Figure size 640x480 with 1 Axes>"
      ]
     },
     "metadata": {},
     "output_type": "display_data"
    }
   ],
   "source": [
    "# plotting class balance\n",
    "df['class'].value_counts(normalize=True).plot(\n",
    "    kind = \"bar\",\n",
    "    xlabel='Class',\n",
    "    ylabel='Frequency',\n",
    "    title='Class Balance'\n",
    ");"
   ]
  },
  {
   "cell_type": "markdown",
   "id": "7634e563-3572-4655-ad92-a749761ccaaa",
   "metadata": {},
   "source": [
    "creating a boxplot that shows the distributions of the \"Attr64\" column for both groups in the \"class\" column."
   ]
  },
  {
   "cell_type": "code",
   "execution_count": 12,
   "id": "ebad81c3-6081-4d37-b0f5-1acd927bcda3",
   "metadata": {},
   "outputs": [
    {
     "data": {
      "image/png": "[encoded data removed]",
      "text/plain": [
       "<Figure size 640x480 with 1 Axes>"
      ]
     },
     "metadata": {},
     "output_type": "display_data"
    }
   ],
   "source": [
    "# Create boxplot\n",
    "sns.boxplot(x='class', y='Attr64', data=df)\n",
    "plt.xlabel(\"class\")\n",
    "plt.ylabel(\"POA / financial expenses\")\n",
    "plt.title(\"Distribution of Profit/Expenses Ratio, by Class\");"
   ]
  },
  {
   "cell_type": "markdown",
   "id": "9c6dc4d4-5bb0-48ad-b61d-4d4a80734b04",
   "metadata": {},
   "source": [
    "Why does this look so funny? Remember that boxplots exist to help us see the quartiles in a dataset, and this one doesn't really do that. Let's check the distribution of \"Attr64\"to see if we can figure out what's going on here"
   ]
  },
  {
   "cell_type": "markdown",
   "id": "ce2d9ab5-3426-41a4-86e9-c098e53a0541",
   "metadata": {},
   "source": [
    "Using the describe method on the column for \"Attr64\". What can you tell about the distribution of the data based on the mean and median?"
   ]
  },
  {
   "cell_type": "code",
   "execution_count": 13,
   "id": "18c5df6c-d347-4b8d-be2a-51dc715506a1",
   "metadata": {},
   "outputs": [
    {
     "data": {
      "text/plain": [
       "count     41,829\n",
       "mean          73\n",
       "std        2,390\n",
       "min      -10,677\n",
       "25%            2\n",
       "50%            4\n",
       "75%           10\n",
       "max      294,770\n",
       "Name: Attr64, dtype: object"
      ]
     },
     "execution_count": 13,
     "metadata": {},
     "output_type": "execute_result"
    }
   ],
   "source": [
    "df['Attr64'].describe().apply('{0:,.0f}'.format)"
   ]
  },
  {
   "cell_type": "markdown",
   "id": "7d20d641-0234-4411-87c6-7b9363f6198d",
   "metadata": {},
   "source": [
    "Hmmm. Note that the median is around 5, but the mean is over 200. That suggests that this feature is skewed to the right. Let's make a histogram to see what the distribution actually looks like."
   ]
  },
  {
   "cell_type": "code",
   "execution_count": 14,
   "id": "6a99a5c7-6391-458e-b4d1-41bb0d01b778",
   "metadata": {},
   "outputs": [
    {
     "data": {
      "image/png": "[encoded data removed]",
      "text/plain": [
       "<Figure size 640x480 with 1 Axes>"
      ]
     },
     "metadata": {},
     "output_type": "display_data"
    }
   ],
   "source": [
    "# Plot histogram of `Attr64`\n",
    "df['Attr64'].plot(kind='hist')\n",
    "plt.xlabel(\"POA / financial expenses\")\n",
    "plt.ylabel(\"Count\"),\n",
    "plt.title(\"Distribution of Profit/Expenses Ratio\");"
   ]
  },
  {
   "cell_type": "markdown",
   "id": "bcf139eb-347a-4cd9-bc85-8af0b91ac221",
   "metadata": {},
   "source": [
    "Aha! We saw it in the numbers and now we see it in the histogram. The data is very skewed. So, in order to create a helpful boxplot, we need to trim the data."
   ]
  },
  {
   "cell_type": "markdown",
   "id": "914d737f-4bf0-4c8c-8e54-85375bfe5475",
   "metadata": {},
   "source": [
    "Lets Recreate the boxplot that we made above, this time only using the values for \"Attr64\" that fall between the 0.1 and 0.9 quantiles for the column."
   ]
  },
  {
   "cell_type": "code",
   "execution_count": 15,
   "id": "746d5471-acd4-46d8-8a5c-742f4a9b7d6c",
   "metadata": {},
   "outputs": [
    {
     "data": {
      "image/png": "[encoded data removed]",
      "text/plain": [
       "<Figure size 640x480 with 1 Axes>"
      ]
     },
     "metadata": {},
     "output_type": "display_data"
    }
   ],
   "source": [
    "# Create clipped boxplot\n",
    "q1, q9 = df['Attr64'].quantile([0.1, 0.9])\n",
    "mask = df['Attr64'].between(q1, q9)\n",
    "sns.boxplot(x='class', y='Attr64', data=df[mask])\n",
    "plt.xlabel(\"Class\")\n",
    "plt.ylabel(\"POA / financial expenses\")\n",
    "plt.title(\"Distribution of Profit/Expenses Ratio, by Class Status\");"
   ]
  },
  {
   "cell_type": "markdown",
   "id": "e9d4711f-0827-4a19-891e-ae19930f4301",
   "metadata": {},
   "source": [
    "That makes a lot more sense. Let's take a look at some of the other features in the dataset to see what else is out there."
   ]
  },
  {
   "cell_type": "markdown",
   "id": "be3830ab-c761-42a8-b38c-a8166d893985",
   "metadata": {},
   "source": [
    "Profit on operating activities is profit that a company makes through its \"normal\" operations. For instance, a car company profits from the sale of its cars. However, a company may have other forms of profit, such as financial investments. So a company's total profit may be positive even when its profit on operating activities is negative.\n",
    "\n",
    "Financial expenses include things like interest due on loans, and does not include \"normal\" expenses (like the money that a car company spends on raw materials to manufacture cars)."
   ]
  },
  {
   "cell_type": "markdown",
   "id": "43c4448b-b970-4707-96c8-fb529ad33515",
   "metadata": {},
   "source": [
    "#### Exploring 'Attr31'"
   ]
  },
  {
   "cell_type": "code",
   "execution_count": 16,
   "id": "65aa2b81-5f61-408c-8556-8ce43e58fae8",
   "metadata": {},
   "outputs": [
    {
     "data": {
      "image/png": "[encoded data removed]",
      "text/plain": [
       "<Figure size 640x480 with 1 Axes>"
      ]
     },
     "metadata": {},
     "output_type": "display_data"
    }
   ],
   "source": [
    "# Create boxplot\n",
    "sns.boxplot(x='class', y='Attr31', data=df)\n",
    "plt.xlabel(\"class\")\n",
    "plt.ylabel(\"POA / financial expenses\")\n",
    "plt.title(\"Distribution of Profit/Expenses Ratio, by Class\");"
   ]
  },
  {
   "cell_type": "code",
   "execution_count": 17,
   "id": "5812d529-8db3-445c-99a3-7ca5a3d8622b",
   "metadata": {},
   "outputs": [
    {
     "data": {
      "text/plain": [
       "count    42501.000000\n",
       "mean         0.179124\n",
       "std         49.191974\n",
       "min      -1495.600000\n",
       "25%          0.006974\n",
       "50%          0.043063\n",
       "75%          0.101730\n",
       "max       9244.300000\n",
       "Name: Attr31, dtype: float64"
      ]
     },
     "execution_count": 17,
     "metadata": {},
     "output_type": "execute_result"
    }
   ],
   "source": [
    "df['Attr31'].describe()"
   ]
  },
  {
   "cell_type": "code",
   "execution_count": 18,
   "id": "03929a01-1f3c-4d25-9450-3732c311bc6b",
   "metadata": {},
   "outputs": [
    {
     "data": {
      "image/png": "[encoded data removed]",
      "text/plain": [
       "<Figure size 640x480 with 1 Axes>"
      ]
     },
     "metadata": {},
     "output_type": "display_data"
    }
   ],
   "source": [
    "# Create clipped boxplot\n",
    "q1, q9 = df['Attr31'].quantile([0.1, 0.9])\n",
    "mask = df['Attr31'].between(q1, q9)\n",
    "sns.boxplot(x='class', y='Attr31', data=df[mask])\n",
    "plt.xlabel(\"Class\")\n",
    "plt.ylabel(\"POA / financial expenses\")\n",
    "plt.title(\"Distribution of Profit/Expenses Ratio, by Class Status\");"
   ]
  },
  {
   "cell_type": "markdown",
   "id": "7f56c4a7-8f88-475d-874d-79f88b890ed9",
   "metadata": {},
   "source": [
    "## Exploring 'Attr4'"
   ]
  },
  {
   "cell_type": "code",
   "execution_count": 19,
   "id": "3ae17b5f-470d-4c03-a12a-5efa4d255aa5",
   "metadata": {},
   "outputs": [
    {
     "data": {
      "image/png": "[encoded data removed]",
      "text/plain": [
       "<Figure size 640x480 with 1 Axes>"
      ]
     },
     "metadata": {},
     "output_type": "display_data"
    }
   ],
   "source": [
    "# Create boxplot\n",
    "sns.boxplot(x='class', y='Attr4', data=df)\n",
    "plt.xlabel(\"class\")\n",
    "plt.ylabel(\"POA / financial expenses\")\n",
    "plt.title(\"Distribution of Profit/Expenses Ratio, by Class\");"
   ]
  },
  {
   "cell_type": "code",
   "execution_count": 20,
   "id": "0cb6bc56-2e07-4dac-808e-87316e617097",
   "metadata": {},
   "outputs": [
    {
     "data": {
      "text/plain": [
       "count    42494.000000\n",
       "mean         6.364090\n",
       "std        298.114451\n",
       "min         -0.403110\n",
       "25%          1.048500\n",
       "50%          1.566550\n",
       "75%          2.784200\n",
       "max      53433.000000\n",
       "Name: Attr4, dtype: float64"
      ]
     },
     "execution_count": 20,
     "metadata": {},
     "output_type": "execute_result"
    }
   ],
   "source": [
    "df['Attr4'].describe()"
   ]
  },
  {
   "cell_type": "code",
   "execution_count": 21,
   "id": "072c5cfc-8bca-447d-9c88-940cb682087f",
   "metadata": {},
   "outputs": [
    {
     "data": {
      "image/png": "[encoded data removed]",
      "text/plain": [
       "<Figure size 640x480 with 1 Axes>"
      ]
     },
     "metadata": {},
     "output_type": "display_data"
    }
   ],
   "source": [
    "# Create clipped boxplot\n",
    "q1, q9 = df['Attr4'].quantile([0.1, 0.9])\n",
    "mask = df['Attr4'].between(q1, q9)\n",
    "sns.boxplot(x='class', y='Attr4', data=df[mask])\n",
    "plt.xlabel(\"Class\")\n",
    "plt.ylabel(\"POA / financial expenses\")\n",
    "plt.title(\"Distribution of Profit/Expenses Ratio, by Class Status\");"
   ]
  },
  {
   "cell_type": "code",
   "execution_count": 22,
   "id": "9c172079-2c7d-4634-9179-93f09731eaca",
   "metadata": {},
   "outputs": [
    {
     "data": {
      "image/png": "[encoded data removed]",
      "text/plain": [
       "<Figure size 800x400 with 2 Axes>"
      ]
     },
     "metadata": {},
     "output_type": "display_data"
    }
   ],
   "source": [
    "plt.figure(figsize=(8, 4)) \n",
    "corr = df.drop(columns='class').corr()\n",
    "sns.heatmap(corr);"
   ]
  },
  {
   "cell_type": "markdown",
   "id": "289af885-ffe7-4bc2-8a87-8fa93d7c0792",
   "metadata": {},
   "source": [
    "So what did we learn from this EDA? First, our data is imbalanced. This is something we need to address in our data preparation. Second, many of our features have missing values that we'll need to impute. And since the features are highly skewed, the best imputation strategy is likely median, not mean. Finally, we have autocorrelation issues, which means that we should steer clear of linear models, and try a tree-based model instead."
   ]
  },
  {
   "cell_type": "markdown",
   "id": "59a4bad7-1082-452e-8baa-1d9590395b09",
   "metadata": {},
   "source": [
    "# Machine Learning workflow\n",
    "## Split"
   ]
  },
  {
   "cell_type": "code",
   "execution_count": 57,
   "id": "0cc2239e-8104-443a-85d6-a9d025c1d72f",
   "metadata": {},
   "outputs": [],
   "source": [
    "from sklearn.model_selection import GridSearchCV, cross_val_score, train_test_split\n",
    "from imblearn.over_sampling import RandomOverSampler\n",
    "from imblearn.under_sampling import RandomUnderSampler\n",
    "from sklearn.impute import SimpleImputer\n",
    "from sklearn.metrics import ConfusionMatrixDisplay\n",
    "from sklearn.pipeline import make_pipeline\n",
    "from sklearn.tree import DecisionTreeClassifier"
   ]
  },
  {
   "cell_type": "code",
   "execution_count": 33,
   "id": "60e98489-6b1d-4fb3-8c0b-ba89696996ac",
   "metadata": {},
   "outputs": [
    {
     "name": "stdout",
     "output_type": "stream",
     "text": [
      "('Shape of X:', (42627, 64)) ('Shape of y:', (42627,))\n"
     ]
    }
   ],
   "source": [
    "target = 'class'\n",
    "X = df.drop(columns=[target])\n",
    "y = df[target]\n",
    "\n",
    "print(('Shape of X:', X.shape), ('Shape of y:', y.shape))"
   ]
  },
  {
   "cell_type": "markdown",
   "id": "1d49a63d-bda2-46a1-91f4-6ae0826bbaa8",
   "metadata": {},
   "source": [
    "Divide your data (X and y) into training and test sets using a randomized train-test split. Your validation set should be 20% of your total data. And don't forget to set a random_state for reproducibility."
   ]
  },
  {
   "cell_type": "code",
   "execution_count": 36,
   "id": "746b2290-8854-4da7-a4e5-daa36f888864",
   "metadata": {},
   "outputs": [
    {
     "name": "stdout",
     "output_type": "stream",
     "text": [
      "X_train shape: (34101, 64)\n",
      "y_train shape: (34101,)\n",
      "X_test shape: (8526, 64)\n",
      "y_test shape: (8526,)\n"
     ]
    }
   ],
   "source": [
    "X_train, X_test, y_train, y_test = train_test_split(\n",
    "    X, y, test_size=0.2, random_state=42\n",
    ")\n",
    "\n",
    "print(\"X_train shape:\", X_train.shape)\n",
    "print(\"y_train shape:\", y_train.shape)\n",
    "print(\"X_test shape:\", X_test.shape)\n",
    "print(\"y_test shape:\", y_test.shape)"
   ]
  },
  {
   "cell_type": "markdown",
   "id": "7dccd5b6-0060-4b8e-b28c-5b8ee3715dc0",
   "metadata": {},
   "source": [
    "Note that if we wanted to tune any hyperparameters for our model, we'd do another split here, further dividing the training set into training and validation sets. However, we're going to leave hyperparameters for the next lesson, so no need to do the extra split now."
   ]
  },
  {
   "cell_type": "markdown",
   "id": "e5344e98-1f29-4309-8540-7b5b52545aa0",
   "metadata": {},
   "source": [
    "## Resample\n",
    "Now that we've split our data into training and validation sets, we can address the class imbalance we saw during our EDA. One strategy is to resample the training data. (This will be different than the resampling we did with time series data in Project 3.) There are many to do this, so let's start with under-sampling."
   ]
  },
  {
   "cell_type": "markdown",
   "id": "2dd0581d-7a40-4a3b-b422-97983550a213",
   "metadata": {},
   "source": [
    "**Task 5.2.12:** Create a new feature matrix `X_train_under` and target vector `y_train_under` by performing random under-sampling on your training data."
   ]
  },
  {
   "cell_type": "markdown",
   "id": "c8c9863a-f291-49a7-a67c-c2bec31df5c1",
   "metadata": {},
   "source": [
    "## Undersampling\n",
    "When data is imbalanced in different classes, one way we can balance it is reducing the number of observations in the majority class. This is called under-sampling. We can under-sample by randomly deleting some observations in the majority class. The open source imbalanced-learn (imported as imblearn) is an open-source library that works with scikit-learn and provides tools when dealing with imbalanced classes. Here's an example of randomly deleting observations from the majority class using Poland bankruptcy data from 2008."
   ]
  },
  {
   "cell_type": "code",
   "execution_count": 38,
   "id": "7d71d69a-d022-4b17-9e39-3cdd6d5a868b",
   "metadata": {},
   "outputs": [
    {
     "name": "stdout",
     "output_type": "stream",
     "text": [
      "(3268, 64)\n"
     ]
    },
    {
     "data": {
      "text/html": [
       "<div>\n",
       "<style scoped>\n",
       "    .dataframe tbody tr th:only-of-type {\n",
       "        vertical-align: middle;\n",
       "    }\n",
       "\n",
       "    .dataframe tbody tr th {\n",
       "        vertical-align: top;\n",
       "    }\n",
       "\n",
       "    .dataframe thead th {\n",
       "        text-align: right;\n",
       "    }\n",
       "</style>\n",
       "<table border=\"1\" class=\"dataframe\">\n",
       "  <thead>\n",
       "    <tr style=\"text-align: right;\">\n",
       "      <th></th>\n",
       "      <th>Attr1</th>\n",
       "      <th>Attr2</th>\n",
       "      <th>Attr3</th>\n",
       "      <th>Attr4</th>\n",
       "      <th>Attr5</th>\n",
       "      <th>Attr6</th>\n",
       "      <th>Attr7</th>\n",
       "      <th>Attr8</th>\n",
       "      <th>Attr9</th>\n",
       "      <th>Attr10</th>\n",
       "      <th>...</th>\n",
       "      <th>Attr55</th>\n",
       "      <th>Attr56</th>\n",
       "      <th>Attr57</th>\n",
       "      <th>Attr58</th>\n",
       "      <th>Attr59</th>\n",
       "      <th>Attr60</th>\n",
       "      <th>Attr61</th>\n",
       "      <th>Attr62</th>\n",
       "      <th>Attr63</th>\n",
       "      <th>Attr64</th>\n",
       "    </tr>\n",
       "  </thead>\n",
       "  <tbody>\n",
       "    <tr>\n",
       "      <th>10555</th>\n",
       "      <td>0.164570</td>\n",
       "      <td>0.39217</td>\n",
       "      <td>0.607830</td>\n",
       "      <td>2.5499</td>\n",
       "      <td>83.472</td>\n",
       "      <td>0.000000</td>\n",
       "      <td>0.203170</td>\n",
       "      <td>1.54990</td>\n",
       "      <td>2.7557</td>\n",
       "      <td>0.60783</td>\n",
       "      <td>...</td>\n",
       "      <td>928.23</td>\n",
       "      <td>0.065901</td>\n",
       "      <td>0.270750</td>\n",
       "      <td>0.92685</td>\n",
       "      <td>0.0000</td>\n",
       "      <td>NaN</td>\n",
       "      <td>6.7047</td>\n",
       "      <td>51.944</td>\n",
       "      <td>7.0268</td>\n",
       "      <td>NaN</td>\n",
       "    </tr>\n",
       "    <tr>\n",
       "      <th>10983</th>\n",
       "      <td>0.072336</td>\n",
       "      <td>0.16131</td>\n",
       "      <td>0.670280</td>\n",
       "      <td>5.3467</td>\n",
       "      <td>142.330</td>\n",
       "      <td>0.000000</td>\n",
       "      <td>0.072336</td>\n",
       "      <td>5.19930</td>\n",
       "      <td>1.2095</td>\n",
       "      <td>0.83869</td>\n",
       "      <td>...</td>\n",
       "      <td>3586.00</td>\n",
       "      <td>0.255760</td>\n",
       "      <td>0.086249</td>\n",
       "      <td>0.76809</td>\n",
       "      <td>0.0000</td>\n",
       "      <td>3.4238</td>\n",
       "      <td>6.0818</td>\n",
       "      <td>46.535</td>\n",
       "      <td>7.8436</td>\n",
       "      <td>6.8914</td>\n",
       "    </tr>\n",
       "    <tr>\n",
       "      <th>11389</th>\n",
       "      <td>0.213460</td>\n",
       "      <td>0.36910</td>\n",
       "      <td>0.630900</td>\n",
       "      <td>2.7093</td>\n",
       "      <td>94.410</td>\n",
       "      <td>0.000000</td>\n",
       "      <td>0.263530</td>\n",
       "      <td>1.70930</td>\n",
       "      <td>2.4883</td>\n",
       "      <td>0.63090</td>\n",
       "      <td>...</td>\n",
       "      <td>336.72</td>\n",
       "      <td>0.067517</td>\n",
       "      <td>0.338350</td>\n",
       "      <td>0.90250</td>\n",
       "      <td>0.0000</td>\n",
       "      <td>110.6800</td>\n",
       "      <td>7.8690</td>\n",
       "      <td>54.142</td>\n",
       "      <td>6.7416</td>\n",
       "      <td>NaN</td>\n",
       "    </tr>\n",
       "    <tr>\n",
       "      <th>24392</th>\n",
       "      <td>0.065803</td>\n",
       "      <td>0.19843</td>\n",
       "      <td>0.674070</td>\n",
       "      <td>4.4180</td>\n",
       "      <td>814.010</td>\n",
       "      <td>0.000000</td>\n",
       "      <td>0.086775</td>\n",
       "      <td>4.03970</td>\n",
       "      <td>1.2462</td>\n",
       "      <td>0.80157</td>\n",
       "      <td>...</td>\n",
       "      <td>1160.60</td>\n",
       "      <td>0.368370</td>\n",
       "      <td>0.082092</td>\n",
       "      <td>0.67981</td>\n",
       "      <td>0.0000</td>\n",
       "      <td>3.4205</td>\n",
       "      <td>2.9174</td>\n",
       "      <td>57.760</td>\n",
       "      <td>6.3192</td>\n",
       "      <td>9.6819</td>\n",
       "    </tr>\n",
       "    <tr>\n",
       "      <th>39862</th>\n",
       "      <td>0.047550</td>\n",
       "      <td>0.87580</td>\n",
       "      <td>0.035726</td>\n",
       "      <td>1.0931</td>\n",
       "      <td>-28.232</td>\n",
       "      <td>0.019354</td>\n",
       "      <td>0.057891</td>\n",
       "      <td>0.14181</td>\n",
       "      <td>1.8499</td>\n",
       "      <td>0.12420</td>\n",
       "      <td>...</td>\n",
       "      <td>1187.40</td>\n",
       "      <td>0.017453</td>\n",
       "      <td>0.382850</td>\n",
       "      <td>0.97029</td>\n",
       "      <td>3.4424</td>\n",
       "      <td>23.8250</td>\n",
       "      <td>11.2600</td>\n",
       "      <td>75.706</td>\n",
       "      <td>4.8213</td>\n",
       "      <td>3.1864</td>\n",
       "    </tr>\n",
       "  </tbody>\n",
       "</table>\n",
       "<p>5 rows × 64 columns</p>\n",
       "</div>"
      ],
      "text/plain": [
       "          Attr1    Attr2     Attr3   Attr4    Attr5     Attr6     Attr7  \\\n",
       "10555  0.164570  0.39217  0.607830  2.5499   83.472  0.000000  0.203170   \n",
       "10983  0.072336  0.16131  0.670280  5.3467  142.330  0.000000  0.072336   \n",
       "11389  0.213460  0.36910  0.630900  2.7093   94.410  0.000000  0.263530   \n",
       "24392  0.065803  0.19843  0.674070  4.4180  814.010  0.000000  0.086775   \n",
       "39862  0.047550  0.87580  0.035726  1.0931  -28.232  0.019354  0.057891   \n",
       "\n",
       "         Attr8   Attr9   Attr10  ...   Attr55    Attr56    Attr57   Attr58  \\\n",
       "10555  1.54990  2.7557  0.60783  ...   928.23  0.065901  0.270750  0.92685   \n",
       "10983  5.19930  1.2095  0.83869  ...  3586.00  0.255760  0.086249  0.76809   \n",
       "11389  1.70930  2.4883  0.63090  ...   336.72  0.067517  0.338350  0.90250   \n",
       "24392  4.03970  1.2462  0.80157  ...  1160.60  0.368370  0.082092  0.67981   \n",
       "39862  0.14181  1.8499  0.12420  ...  1187.40  0.017453  0.382850  0.97029   \n",
       "\n",
       "       Attr59    Attr60   Attr61  Attr62  Attr63  Attr64  \n",
       "10555  0.0000       NaN   6.7047  51.944  7.0268     NaN  \n",
       "10983  0.0000    3.4238   6.0818  46.535  7.8436  6.8914  \n",
       "11389  0.0000  110.6800   7.8690  54.142  6.7416     NaN  \n",
       "24392  0.0000    3.4205   2.9174  57.760  6.3192  9.6819  \n",
       "39862  3.4424   23.8250  11.2600  75.706  4.8213  3.1864  \n",
       "\n",
       "[5 rows x 64 columns]"
      ]
     },
     "execution_count": 38,
     "metadata": {},
     "output_type": "execute_result"
    }
   ],
   "source": [
    "under_sampler = RandomUnderSampler(random_state=42)\n",
    "X_train_under, y_train_under = under_sampler.fit_resample(X_train, y_train)\n",
    "print(X_train_under.shape)\n",
    "X_train_under.head()"
   ]
  },
  {
   "cell_type": "markdown",
   "id": "d6c9c268-483e-4a08-b745-d5f1228476bb",
   "metadata": {},
   "source": [
    "Depending on the random state you set above, you may get a different shape for X_train_under. Don't worry, it's normal!"
   ]
  },
  {
   "cell_type": "markdown",
   "id": "c8f1fff6-6e96-4cee-bc91-fb24d6d778eb",
   "metadata": {},
   "source": [
    "And then we'll over-sample."
   ]
  },
  {
   "cell_type": "markdown",
   "id": "8b8676b0-fc78-49e4-8ff4-ab6db924f7ee",
   "metadata": {},
   "source": [
    "## Over-sampling\n",
    "Over-sampling is the opposite of under-sampling. Instead of reducing the majority class, over-sampling increases the number of observations in the minority class by randomly making copies of the existing observations. Here is an example of making random copies from the minority class using the Poland bankruptcy data and imblearn."
   ]
  },
  {
   "cell_type": "markdown",
   "id": "e1035957-cf3a-43b1-b8df-0ada5c764889",
   "metadata": {},
   "source": [
    "**Task 5.2.13:** Create a new feature matrix `X_train_over` and target vector `y_train_over` by performing random over-sampling on your training data."
   ]
  },
  {
   "cell_type": "code",
   "execution_count": 39,
   "id": "250b49d9-6061-4367-be09-0b1857508bf2",
   "metadata": {},
   "outputs": [
    {
     "name": "stdout",
     "output_type": "stream",
     "text": [
      "(64934, 64)\n"
     ]
    },
    {
     "data": {
      "text/html": [
       "<div>\n",
       "<style scoped>\n",
       "    .dataframe tbody tr th:only-of-type {\n",
       "        vertical-align: middle;\n",
       "    }\n",
       "\n",
       "    .dataframe tbody tr th {\n",
       "        vertical-align: top;\n",
       "    }\n",
       "\n",
       "    .dataframe thead th {\n",
       "        text-align: right;\n",
       "    }\n",
       "</style>\n",
       "<table border=\"1\" class=\"dataframe\">\n",
       "  <thead>\n",
       "    <tr style=\"text-align: right;\">\n",
       "      <th></th>\n",
       "      <th>Attr1</th>\n",
       "      <th>Attr2</th>\n",
       "      <th>Attr3</th>\n",
       "      <th>Attr4</th>\n",
       "      <th>Attr5</th>\n",
       "      <th>Attr6</th>\n",
       "      <th>Attr7</th>\n",
       "      <th>Attr8</th>\n",
       "      <th>Attr9</th>\n",
       "      <th>Attr10</th>\n",
       "      <th>...</th>\n",
       "      <th>Attr55</th>\n",
       "      <th>Attr56</th>\n",
       "      <th>Attr57</th>\n",
       "      <th>Attr58</th>\n",
       "      <th>Attr59</th>\n",
       "      <th>Attr60</th>\n",
       "      <th>Attr61</th>\n",
       "      <th>Attr62</th>\n",
       "      <th>Attr63</th>\n",
       "      <th>Attr64</th>\n",
       "    </tr>\n",
       "  </thead>\n",
       "  <tbody>\n",
       "    <tr>\n",
       "      <th>0</th>\n",
       "      <td>-1.062100</td>\n",
       "      <td>0.69728</td>\n",
       "      <td>0.050154</td>\n",
       "      <td>1.07190</td>\n",
       "      <td>-2.7614</td>\n",
       "      <td>0.000000</td>\n",
       "      <td>-1.062100</td>\n",
       "      <td>0.43415</td>\n",
       "      <td>2.3214</td>\n",
       "      <td>0.30272</td>\n",
       "      <td>...</td>\n",
       "      <td>67.404</td>\n",
       "      <td>0.567170</td>\n",
       "      <td>-3.508500</td>\n",
       "      <td>0.43440</td>\n",
       "      <td>0.00000</td>\n",
       "      <td>NaN</td>\n",
       "      <td>3.6018</td>\n",
       "      <td>109.630</td>\n",
       "      <td>3.3293</td>\n",
       "      <td>9.1913</td>\n",
       "    </tr>\n",
       "    <tr>\n",
       "      <th>1</th>\n",
       "      <td>-0.138710</td>\n",
       "      <td>0.46865</td>\n",
       "      <td>-0.156390</td>\n",
       "      <td>0.59341</td>\n",
       "      <td>-33.9240</td>\n",
       "      <td>0.000000</td>\n",
       "      <td>-0.138710</td>\n",
       "      <td>1.13380</td>\n",
       "      <td>2.5777</td>\n",
       "      <td>0.53135</td>\n",
       "      <td>...</td>\n",
       "      <td>-3963.200</td>\n",
       "      <td>0.012527</td>\n",
       "      <td>-0.261060</td>\n",
       "      <td>0.99308</td>\n",
       "      <td>0.14725</td>\n",
       "      <td>30.8780</td>\n",
       "      <td>17.8230</td>\n",
       "      <td>54.462</td>\n",
       "      <td>6.7020</td>\n",
       "      <td>3.3401</td>\n",
       "    </tr>\n",
       "    <tr>\n",
       "      <th>2</th>\n",
       "      <td>0.019745</td>\n",
       "      <td>0.85147</td>\n",
       "      <td>-0.089812</td>\n",
       "      <td>0.71976</td>\n",
       "      <td>-51.9560</td>\n",
       "      <td>0.019745</td>\n",
       "      <td>0.029294</td>\n",
       "      <td>0.17435</td>\n",
       "      <td>1.0393</td>\n",
       "      <td>0.14846</td>\n",
       "      <td>...</td>\n",
       "      <td>-1789.400</td>\n",
       "      <td>0.037773</td>\n",
       "      <td>0.133000</td>\n",
       "      <td>0.96223</td>\n",
       "      <td>3.57670</td>\n",
       "      <td>276.6100</td>\n",
       "      <td>8.9717</td>\n",
       "      <td>103.320</td>\n",
       "      <td>3.5327</td>\n",
       "      <td>1.4717</td>\n",
       "    </tr>\n",
       "    <tr>\n",
       "      <th>3</th>\n",
       "      <td>0.029985</td>\n",
       "      <td>0.73656</td>\n",
       "      <td>0.190350</td>\n",
       "      <td>1.34720</td>\n",
       "      <td>-4985.6000</td>\n",
       "      <td>0.000000</td>\n",
       "      <td>0.042176</td>\n",
       "      <td>0.35767</td>\n",
       "      <td>1.9616</td>\n",
       "      <td>0.26344</td>\n",
       "      <td>...</td>\n",
       "      <td>1347.800</td>\n",
       "      <td>0.027410</td>\n",
       "      <td>0.113820</td>\n",
       "      <td>1.01440</td>\n",
       "      <td>0.71459</td>\n",
       "      <td>4.7429</td>\n",
       "      <td>8.2798</td>\n",
       "      <td>102.020</td>\n",
       "      <td>3.5777</td>\n",
       "      <td>7.5058</td>\n",
       "    </tr>\n",
       "    <tr>\n",
       "      <th>4</th>\n",
       "      <td>0.018701</td>\n",
       "      <td>0.52959</td>\n",
       "      <td>-0.109540</td>\n",
       "      <td>0.71714</td>\n",
       "      <td>1040.7000</td>\n",
       "      <td>0.000000</td>\n",
       "      <td>0.025903</td>\n",
       "      <td>0.88825</td>\n",
       "      <td>2.8012</td>\n",
       "      <td>0.47041</td>\n",
       "      <td>...</td>\n",
       "      <td>-1522.900</td>\n",
       "      <td>0.009683</td>\n",
       "      <td>0.039754</td>\n",
       "      <td>0.99485</td>\n",
       "      <td>0.29678</td>\n",
       "      <td>57.0290</td>\n",
       "      <td>12.8680</td>\n",
       "      <td>50.461</td>\n",
       "      <td>7.2333</td>\n",
       "      <td>3.8783</td>\n",
       "    </tr>\n",
       "  </tbody>\n",
       "</table>\n",
       "<p>5 rows × 64 columns</p>\n",
       "</div>"
      ],
      "text/plain": [
       "      Attr1    Attr2     Attr3    Attr4      Attr5     Attr6     Attr7  \\\n",
       "0 -1.062100  0.69728  0.050154  1.07190    -2.7614  0.000000 -1.062100   \n",
       "1 -0.138710  0.46865 -0.156390  0.59341   -33.9240  0.000000 -0.138710   \n",
       "2  0.019745  0.85147 -0.089812  0.71976   -51.9560  0.019745  0.029294   \n",
       "3  0.029985  0.73656  0.190350  1.34720 -4985.6000  0.000000  0.042176   \n",
       "4  0.018701  0.52959 -0.109540  0.71714  1040.7000  0.000000  0.025903   \n",
       "\n",
       "     Attr8   Attr9   Attr10  ...    Attr55    Attr56    Attr57   Attr58  \\\n",
       "0  0.43415  2.3214  0.30272  ...    67.404  0.567170 -3.508500  0.43440   \n",
       "1  1.13380  2.5777  0.53135  ... -3963.200  0.012527 -0.261060  0.99308   \n",
       "2  0.17435  1.0393  0.14846  ... -1789.400  0.037773  0.133000  0.96223   \n",
       "3  0.35767  1.9616  0.26344  ...  1347.800  0.027410  0.113820  1.01440   \n",
       "4  0.88825  2.8012  0.47041  ... -1522.900  0.009683  0.039754  0.99485   \n",
       "\n",
       "    Attr59    Attr60   Attr61   Attr62  Attr63  Attr64  \n",
       "0  0.00000       NaN   3.6018  109.630  3.3293  9.1913  \n",
       "1  0.14725   30.8780  17.8230   54.462  6.7020  3.3401  \n",
       "2  3.57670  276.6100   8.9717  103.320  3.5327  1.4717  \n",
       "3  0.71459    4.7429   8.2798  102.020  3.5777  7.5058  \n",
       "4  0.29678   57.0290  12.8680   50.461  7.2333  3.8783  \n",
       "\n",
       "[5 rows x 64 columns]"
      ]
     },
     "execution_count": 39,
     "metadata": {},
     "output_type": "execute_result"
    }
   ],
   "source": [
    "over_sampler = RandomOverSampler(random_state=42)\n",
    "X_train_over, y_train_over = over_sampler.fit_resample(X_train, y_train)\n",
    "print(X_train_over.shape)\n",
    "X_train_over.head()"
   ]
  },
  {
   "cell_type": "markdown",
   "id": "787a9845-73b6-4e09-981e-cc565c6d8e7a",
   "metadata": {},
   "source": [
    "## Build Model\n",
    "## Baseline"
   ]
  },
  {
   "cell_type": "code",
   "execution_count": 40,
   "id": "f0eadef0-964a-4996-94ba-c7934ac44a4e",
   "metadata": {},
   "outputs": [
    {
     "name": "stdout",
     "output_type": "stream",
     "text": [
      "Baseline Accuracy: 0.9521\n"
     ]
    }
   ],
   "source": [
    "acc_baseline = y_train.value_counts(normalize=True).max()\n",
    "print(\"Baseline Accuracy:\", round(acc_baseline, 4))"
   ]
  },
  {
   "cell_type": "markdown",
   "id": "d5c63e61-02f9-4da4-8f34-de69e27cbc02",
   "metadata": {},
   "source": [
    "Note here that, because our classes are imbalanced, the baseline accuracy is very high. We should keep this in mind because, even if our trained model gets a high validation accuracy score, that doesn't mean it's actually good."
   ]
  },
  {
   "cell_type": "markdown",
   "id": "ca6e5f8e-04ef-4f21-b964-cc54a5fee59a",
   "metadata": {
    "tags": []
   },
   "source": [
    "## Iterate\n",
    "Now that we have a baseline, let's build a model to see if we can beat it."
   ]
  },
  {
   "cell_type": "markdown",
   "id": "0beba134-5f52-4438-af16-3a68a29dd032",
   "metadata": {},
   "source": [
    "### Decision Tree Classifier"
   ]
  },
  {
   "cell_type": "markdown",
   "id": "ef2d7b3f-9f4b-425a-879b-68dfefc4ef7b",
   "metadata": {},
   "source": [
    "Create three identical models: model_reg, model_under and model_over. All of them should use a SimpleImputer followed by a DecisionTreeClassifier. Train model_reg using the unaltered training data. For model_under, use the undersampled data. For model_over, use the oversampled data."
   ]
  },
  {
   "cell_type": "code",
   "execution_count": 43,
   "id": "d4fb0156-fd45-4083-acf2-027f113bf991",
   "metadata": {},
   "outputs": [
    {
     "data": {
      "text/plain": [
       "Pipeline(steps=[('simpleimputer', SimpleImputer(strategy='median')),\n",
       "                ('decisiontreeclassifier',\n",
       "                 DecisionTreeClassifier(random_state=42))])"
      ]
     },
     "execution_count": 43,
     "metadata": {},
     "output_type": "execute_result"
    }
   ],
   "source": [
    "# Fit on `X_train`, `y_train`\n",
    "model_reg = make_pipeline(\n",
    "    SimpleImputer(strategy='median'), DecisionTreeClassifier(random_state=42)\n",
    ")\n",
    "model_reg.fit(X_train, y_train)\n",
    "\n",
    "# Fit on `X_train_under`, `y_train_under`\n",
    "model_under =  make_pipeline(\n",
    "    SimpleImputer(strategy='median'), DecisionTreeClassifier(random_state=42)\n",
    ")\n",
    "model_under.fit(X_train_under, y_train_under)\n",
    "\n",
    "# Fit on `X_train_over`, `y_train_over`\n",
    "model_over =  make_pipeline(\n",
    "    SimpleImputer(strategy='median'), DecisionTreeClassifier(random_state=42)\n",
    ")\n",
    "model_over.fit(X_train_over, y_train_over)"
   ]
  },
  {
   "cell_type": "markdown",
   "id": "d1d12c1d-5f79-4ecb-af30-0c059a19c55e",
   "metadata": {},
   "source": [
    "## Evaluate\n",
    "Calculate training and test accuracy for your three models."
   ]
  },
  {
   "cell_type": "code",
   "execution_count": 44,
   "id": "023ffe55-5dc2-482f-8dea-1db3af326750",
   "metadata": {},
   "outputs": [
    {
     "name": "stdout",
     "output_type": "stream",
     "text": [
      "Training Accuracy: 1.0\n",
      "Test Accuracy: 0.9536\n",
      "Training Accuracy: 0.7942\n",
      "Test Accuracy: 0.7755\n",
      "Training Accuracy: 1.0\n",
      "Test Accuracy: 0.957\n"
     ]
    }
   ],
   "source": [
    "for m in [model_reg, model_under, model_over]:\n",
    "    acc_train = m.score(X_train, y_train)\n",
    "    acc_test = m.score(X_test, y_test)\n",
    "\n",
    "    print(\"Training Accuracy:\", round(acc_train, 4))\n",
    "    print(\"Test Accuracy:\", round(acc_test, 4))"
   ]
  },
  {
   "cell_type": "markdown",
   "id": "8812a53b-784d-4f51-a5b0-f28602c64fcd",
   "metadata": {},
   "source": [
    "As we mentioned earlier, \"good\" accuracy scores don't tell us much about the model's performance when dealing with imbalanced data. So instead of looking at what the model got right or wrong, let's see how its predictions differ for the two classes in the dataset."
   ]
  },
  {
   "cell_type": "markdown",
   "id": "dd75a174-156e-4855-9627-6ae8ddedaf1c",
   "metadata": {},
   "source": [
    "Plot a confusion matrix that shows how your best model performs on your validation set."
   ]
  },
  {
   "cell_type": "code",
   "execution_count": 45,
   "id": "0bebd05f-863d-4955-a203-0415efbd2af0",
   "metadata": {},
   "outputs": [
    {
     "data": {
      "image/png": "[encoded data removed]",
      "text/plain": [
       "<Figure size 640x480 with 2 Axes>"
      ]
     },
     "metadata": {},
     "output_type": "display_data"
    }
   ],
   "source": [
    "# Plot confusion matrix\n",
    "ConfusionMatrixDisplay.from_estimator(model_over, X_test, y_test);"
   ]
  },
  {
   "cell_type": "markdown",
   "id": "37e8f60f-01b7-47ad-8bfa-2c7e23027cca",
   "metadata": {},
   "source": [
    "Determine the depth of the decision tree in model_over."
   ]
  },
  {
   "cell_type": "code",
   "execution_count": 46,
   "id": "21606931-e32f-4d8a-b485-f2bf9276b0fa",
   "metadata": {},
   "outputs": [
    {
     "name": "stdout",
     "output_type": "stream",
     "text": [
      "37\n"
     ]
    }
   ],
   "source": [
    "depth = model_over.named_steps['decisiontreeclassifier'].get_depth()\n",
    "print(depth)"
   ]
  },
  {
   "cell_type": "markdown",
   "id": "67b50534-d97a-4120-b99c-f74358676906",
   "metadata": {},
   "source": [
    "## Communicate"
   ]
  },
  {
   "cell_type": "markdown",
   "id": "bcb037ec-9a35-404b-8acc-c160b1cfa4f5",
   "metadata": {},
   "source": [
    "Now that we have a reasonable model, let's graph the importance of each feature."
   ]
  },
  {
   "cell_type": "markdown",
   "id": "c07454fb-d8d7-4f40-a767-5b224822664a",
   "metadata": {},
   "source": [
    "Create a horizontal bar chart with the 15 most important features for model_over. Be sure to label your x-axis \"Gini Importance\"."
   ]
  },
  {
   "cell_type": "code",
   "execution_count": 47,
   "id": "172c9f9c-a95f-4166-8104-424868875447",
   "metadata": {},
   "outputs": [
    {
     "data": {
      "image/png": "[encoded data removed]",
      "text/plain": [
       "<Figure size 640x480 with 1 Axes>"
      ]
     },
     "metadata": {},
     "output_type": "display_data"
    }
   ],
   "source": [
    "# Get importances\n",
    "importances = model_over.named_steps['decisiontreeclassifier'].feature_importances_\n",
    "\n",
    "# Put importances into a Series\n",
    "feat_imp = pd.Series(importances, index=X_train_over.columns).sort_values()\n",
    "\n",
    "# Plot series\n",
    "feat_imp.tail(15).plot(kind='barh')\n",
    "plt.xlabel(\"Gini Importance\")\n",
    "plt.ylabel(\"Feature\")\n",
    "plt.title(\"model_over Feature Importance\");"
   ]
  },
  {
   "cell_type": "markdown",
   "id": "24aa91b5-8a66-4020-bc35-509eee04aebf",
   "metadata": {},
   "source": [
    "There's our old friend \"Attr 34\" near the top, along with features 27 and 26. It's time to share our findings.\n",
    "\n",
    "Sometimes communication means sharing a visualization. Other times, it means sharing the actual model you've made so that colleagues can use it on new data or deploy your model into production. First step towards production: saving your model."
   ]
  },
  {
   "cell_type": "code",
   "execution_count": 50,
   "id": "e477500a-aa40-47e5-a4b6-138a1f186a94",
   "metadata": {},
   "outputs": [],
   "source": [
    "# Save your model as `\"model-5-2.pkl\"`\n",
    "with open(\"model-1-2.pkl\", 'wb') as f:\n",
    "    pickle.dump(model_over, f)"
   ]
  },
  {
   "cell_type": "code",
   "execution_count": 51,
   "id": "7ef3c55f-2bb0-4489-9adb-4a91c511f238",
   "metadata": {},
   "outputs": [
    {
     "name": "stdout",
     "output_type": "stream",
     "text": [
      "Pipeline(steps=[('simpleimputer', SimpleImputer(strategy='median')),\n",
      "                ('decisiontreeclassifier',\n",
      "                 DecisionTreeClassifier(random_state=42))])\n"
     ]
    }
   ],
   "source": [
    "# Load `\"model-5-2.pkl\"`\n",
    "with open('model-1-2.pkl', 'rb') as f:\n",
    "    loaded_model = pickle.load(f)\n",
    "print(loaded_model)"
   ]
  },
  {
   "cell_type": "markdown",
   "id": "db2aa853-5fc3-4673-a38c-8c3192cb7221",
   "metadata": {},
   "source": [
    "### Random Forest Classifier"
   ]
  },
  {
   "cell_type": "code",
   "execution_count": 54,
   "id": "ae22ae94-2e26-4620-88ec-2a6c5c3c6635",
   "metadata": {},
   "outputs": [],
   "source": [
    "from sklearn.ensemble import RandomForestClassifier"
   ]
  },
  {
   "cell_type": "code",
   "execution_count": 55,
   "id": "a2beb586-4683-4504-a718-8f370083d339",
   "metadata": {},
   "outputs": [
    {
     "name": "stdout",
     "output_type": "stream",
     "text": [
      "Pipeline(steps=[('simpleimputer', SimpleImputer()),\n",
      "                ('randomforestclassifier',\n",
      "                 RandomForestClassifier(random_state=42))])\n"
     ]
    }
   ],
   "source": [
    "clf = make_pipeline(\n",
    "    SimpleImputer(), RandomForestClassifier(random_state=42)\n",
    ")\n",
    "print(clf)"
   ]
  },
  {
   "cell_type": "markdown",
   "id": "a0e9a105-452b-4201-aa72-a5c2f380913b",
   "metadata": {},
   "source": [
    "By default, the number of trees in our forest (n_estimators) is set to 100. That means when we train this classifier, we'll be fitting 100 trees. While it will take longer to train, it will hopefully lead to better performance.\n",
    "\n",
    "In order to get the best performance from our model, we need to tune its hyperparameter. But how can we do this if we haven't created a validation set? The answer is cross-validation. So, before we look at hyperparameters, let's see how cross-validation works with the classifier we just built."
   ]
  },
  {
   "cell_type": "markdown",
   "id": "232aa8a7-e99a-4f6f-b149-ec37c58bb25f",
   "metadata": {},
   "source": [
    "#### Cross validation\n",
    "When trying out different hyperparameter settings for estimators (such as the `max_depth` for a random forest), there's a risk in using the test set to evaluate these settings. What happens is that your knowledge about the test set can “leak” into the model, and performance metrics no longer reflect the model's ability to generalize. \n",
    "\n",
    "The generalization problem can be solved adding an extra set called **validation set**. In this case, we train the model with the training set, then evaluate different hyperparameters using the validation set. If the model is performing well in both sets, finally we will evaluate the model on the test set.\n",
    "\n",
    "But there's a drawback to this strategy. The potential issue we may face dividing data into three sets is that we will reduce the number of samples available to fit and train the model. In addition, the model results will change with respect to difference choices of training and validation portions.\n",
    "\n",
    "The solution here is to use **cross validation** (CV for short). In this case, we will still use a test set, but a validation set is no longer needed. **k-fold CV** is the most used cross validation method(http://scikit-learn.org/stable/modules/cross_validation.html#k-fold). The algorithm divides the training set into $k$ small folds. For each fold $k$, we:\n",
    "\n",
    "1. Train the model using all the folds but one (i.e. $k-1$ folds) as training data;\n",
    "\n",
    "1. Validate the model using the remaining fold as if it were test data, and store the performance metric;\n",
    "\n",
    "This approach makes the best use of all the data we are given, so it's particularly useful when the sample size is small."
   ]
  },
  {
   "cell_type": "markdown",
   "id": "cf2b8e42-ba87-45f8-9a68-33128b42e8de",
   "metadata": {},
   "source": [
    "Perform cross-validation with your classifier, using the over-sampled training data. We want five folds, so set cv to 5. We also want to speed up training, to set n_jobs to -1."
   ]
  },
  {
   "cell_type": "code",
   "execution_count": 58,
   "id": "d14753b7-7afd-4176-b0f8-48782f1d48cf",
   "metadata": {},
   "outputs": [
    {
     "name": "stdout",
     "output_type": "stream",
     "text": [
      "[0.997305  0.99692   0.997613  0.997228  0.9974588]\n"
     ]
    }
   ],
   "source": [
    "cv_acc_scores = cross_val_score(clf, X_train_over, y_train_over, cv=5, n_jobs=-1)\n",
    "print(cv_acc_scores)"
   ]
  },
  {
   "cell_type": "markdown",
   "id": "429736e9-9382-4b7e-9a2b-c97d3e0a8201",
   "metadata": {},
   "source": [
    "That took kind of a long time, but we just trained 500 random forest classifiers (100 jobs x 5 folds). No wonder it takes so long!\n",
    "\n",
    "Pro tip: even though cross_val_score is useful for getting an idea of how cross-validation works, you'll rarely use it. Instead, most people include a cv argument when they do a hyperparameter search.\n",
    "\n",
    "Now that we have an idea of how cross-validation works, let's tune our model. The first step is creating a range of hyperparameters that we want to evaluate."
   ]
  },
  {
   "cell_type": "markdown",
   "id": "f6f462d9-73a5-4e24-96fd-16581711fde3",
   "metadata": {},
   "source": [
    "**Task 5.3.8:** Create a dictionary with the range of hyperparameters that we want to evaluate for our classifier.\n",
    "\n",
    "For the SimpleImputer, try both the \"mean\" and \"median\" strategies.\n",
    "For the RandomForestClassifier, try max_depth settings between 10 and 50, by steps of 10.\n",
    "Also for the RandomForestClassifier, try n_estimators settings between 25 and 100 by steps of 25."
   ]
  },
  {
   "cell_type": "code",
   "execution_count": 60,
   "id": "8c39f1d4-a474-42fd-9478-0baa2c25029e",
   "metadata": {},
   "outputs": [
    {
     "data": {
      "text/plain": [
       "{'simpleimputer__strategy': ['mean', 'median'],\n",
       " 'randomforestclassifier__n_estimators': range(25, 100, 25),\n",
       " 'randomforestclassifier__max_depth': range(10, 50, 10)}"
      ]
     },
     "execution_count": 60,
     "metadata": {},
     "output_type": "execute_result"
    }
   ],
   "source": [
    "params = {\n",
    "    'simpleimputer__strategy': ['mean', 'median'],\n",
    "    'randomforestclassifier__n_estimators': range(25, 100, 25),\n",
    "    'randomforestclassifier__max_depth': range(10, 50, 10)\n",
    "}\n",
    "params"
   ]
  },
  {
   "cell_type": "markdown",
   "id": "00f22bfc-7d06-4a8b-ab1a-901d98cacfb0",
   "metadata": {},
   "source": [
    "Now that we have our hyperparameter grid, let's incorporate it into a grid search.\n",
    "\n",
    "**Task 5.3.9:** Create a `GridSearchCV` named `model` that includes your classifier and hyperparameter grid. Be sure to use the same arguments for `cv` and `n_jobs` that you used above, and set `verbose` to 1."
   ]
  },
  {
   "cell_type": "code",
   "execution_count": 62,
   "id": "b37b1f3b-3ee7-4e9f-bf2d-480993bec399",
   "metadata": {},
   "outputs": [
    {
     "data": {
      "text/plain": [
       "GridSearchCV(cv=5,\n",
       "             estimator=Pipeline(steps=[('simpleimputer', SimpleImputer()),\n",
       "                                       ('randomforestclassifier',\n",
       "                                        RandomForestClassifier(random_state=42))]),\n",
       "             n_jobs=-1,\n",
       "             param_grid={'randomforestclassifier__max_depth': range(10, 50, 10),\n",
       "                         'randomforestclassifier__n_estimators': range(25, 100, 25),\n",
       "                         'simpleimputer__strategy': ['mean', 'median']},\n",
       "             verbose=1)"
      ]
     },
     "execution_count": 62,
     "metadata": {},
     "output_type": "execute_result"
    }
   ],
   "source": [
    "model_rf = GridSearchCV(\n",
    "    clf,\n",
    "    param_grid=params,\n",
    "    cv=5,\n",
    "    n_jobs=-1,\n",
    "    verbose=1\n",
    ")\n",
    "model_rf"
   ]
  },
  {
   "cell_type": "code",
   "execution_count": 64,
   "id": "c6cebdd3-00e9-4e6c-999e-bf2c64cf9f68",
   "metadata": {},
   "outputs": [
    {
     "name": "stdout",
     "output_type": "stream",
     "text": [
      "Fitting 5 folds for each of 24 candidates, totalling 120 fits\n"
     ]
    },
    {
     "data": {
      "text/plain": [
       "GridSearchCV(cv=5,\n",
       "             estimator=Pipeline(steps=[('simpleimputer', SimpleImputer()),\n",
       "                                       ('randomforestclassifier',\n",
       "                                        RandomForestClassifier(random_state=42))]),\n",
       "             n_jobs=-1,\n",
       "             param_grid={'randomforestclassifier__max_depth': range(10, 50, 10),\n",
       "                         'randomforestclassifier__n_estimators': range(25, 100, 25),\n",
       "                         'simpleimputer__strategy': ['mean', 'median']},\n",
       "             verbose=1)"
      ]
     },
     "execution_count": 64,
     "metadata": {},
     "output_type": "execute_result"
    }
   ],
   "source": [
    "# Train model\n",
    "model_rf.fit(X_train_over, y_train_over)"
   ]
  },
  {
   "cell_type": "markdown",
   "id": "c7cdfad0-8bc1-423e-afad-94c4492ee54f",
   "metadata": {},
   "source": [
    "This will take some time to train, so let's take a moment to think about why. How many forests did we just test? 4 different max_depths times 3 n_estimators times 2 imputation strategies... that makes 24 forests. How many fits did we just do? 24 forests times 5 folds is 120. And remember that each forest is comprised of 25-75 trees, which works out to at least 3,000 trees. So it's computationally expensive!\n",
    "\n",
    "Okay, now that we've tested all those models, let's take a look at the results."
   ]
  },
  {
   "cell_type": "markdown",
   "id": "63e4addb-a813-4faa-92d8-faca2ad56a86",
   "metadata": {},
   "source": [
    "**Task 5.3.11:** Extract the cross-validation results from `model` and load them into a DataFrame named `cv_results`."
   ]
  },
  {
   "cell_type": "code",
   "execution_count": 66,
   "id": "7a89465c-61d2-419d-9547-83bc2065e4bc",
   "metadata": {},
   "outputs": [
    {
     "data": {
      "text/html": [
       "<div>\n",
       "<style scoped>\n",
       "    .dataframe tbody tr th:only-of-type {\n",
       "        vertical-align: middle;\n",
       "    }\n",
       "\n",
       "    .dataframe tbody tr th {\n",
       "        vertical-align: top;\n",
       "    }\n",
       "\n",
       "    .dataframe thead th {\n",
       "        text-align: right;\n",
       "    }\n",
       "</style>\n",
       "<table border=\"1\" class=\"dataframe\">\n",
       "  <thead>\n",
       "    <tr style=\"text-align: right;\">\n",
       "      <th></th>\n",
       "      <th>mean_fit_time</th>\n",
       "      <th>std_fit_time</th>\n",
       "      <th>mean_score_time</th>\n",
       "      <th>std_score_time</th>\n",
       "      <th>param_randomforestclassifier__max_depth</th>\n",
       "      <th>param_randomforestclassifier__n_estimators</th>\n",
       "      <th>param_simpleimputer__strategy</th>\n",
       "      <th>params</th>\n",
       "      <th>split0_test_score</th>\n",
       "      <th>split1_test_score</th>\n",
       "      <th>split2_test_score</th>\n",
       "      <th>split3_test_score</th>\n",
       "      <th>split4_test_score</th>\n",
       "      <th>mean_test_score</th>\n",
       "      <th>std_test_score</th>\n",
       "      <th>rank_test_score</th>\n",
       "    </tr>\n",
       "  </thead>\n",
       "  <tbody>\n",
       "    <tr>\n",
       "      <th>0</th>\n",
       "      <td>10.885505</td>\n",
       "      <td>0.273423</td>\n",
       "      <td>0.117088</td>\n",
       "      <td>0.014392</td>\n",
       "      <td>10</td>\n",
       "      <td>25</td>\n",
       "      <td>mean</td>\n",
       "      <td>{'randomforestclassifier__max_depth': 10, 'ran...</td>\n",
       "      <td>0.944637</td>\n",
       "      <td>0.941634</td>\n",
       "      <td>0.947794</td>\n",
       "      <td>0.948025</td>\n",
       "      <td>0.940936</td>\n",
       "      <td>0.944605</td>\n",
       "      <td>0.002972</td>\n",
       "      <td>21</td>\n",
       "    </tr>\n",
       "    <tr>\n",
       "      <th>1</th>\n",
       "      <td>11.456180</td>\n",
       "      <td>0.453887</td>\n",
       "      <td>0.133245</td>\n",
       "      <td>0.034397</td>\n",
       "      <td>10</td>\n",
       "      <td>25</td>\n",
       "      <td>median</td>\n",
       "      <td>{'randomforestclassifier__max_depth': 10, 'ran...</td>\n",
       "      <td>0.938323</td>\n",
       "      <td>0.936321</td>\n",
       "      <td>0.941942</td>\n",
       "      <td>0.943020</td>\n",
       "      <td>0.935700</td>\n",
       "      <td>0.939061</td>\n",
       "      <td>0.002944</td>\n",
       "      <td>24</td>\n",
       "    </tr>\n",
       "    <tr>\n",
       "      <th>2</th>\n",
       "      <td>22.590225</td>\n",
       "      <td>0.459318</td>\n",
       "      <td>0.212230</td>\n",
       "      <td>0.015804</td>\n",
       "      <td>10</td>\n",
       "      <td>50</td>\n",
       "      <td>mean</td>\n",
       "      <td>{'randomforestclassifier__max_depth': 10, 'ran...</td>\n",
       "      <td>0.948718</td>\n",
       "      <td>0.945638</td>\n",
       "      <td>0.949334</td>\n",
       "      <td>0.949026</td>\n",
       "      <td>0.942939</td>\n",
       "      <td>0.947131</td>\n",
       "      <td>0.002481</td>\n",
       "      <td>20</td>\n",
       "    </tr>\n",
       "    <tr>\n",
       "      <th>3</th>\n",
       "      <td>23.969734</td>\n",
       "      <td>0.322556</td>\n",
       "      <td>0.223004</td>\n",
       "      <td>0.048099</td>\n",
       "      <td>10</td>\n",
       "      <td>50</td>\n",
       "      <td>median</td>\n",
       "      <td>{'randomforestclassifier__max_depth': 10, 'ran...</td>\n",
       "      <td>0.941249</td>\n",
       "      <td>0.939863</td>\n",
       "      <td>0.941403</td>\n",
       "      <td>0.943097</td>\n",
       "      <td>0.937856</td>\n",
       "      <td>0.940694</td>\n",
       "      <td>0.001751</td>\n",
       "      <td>23</td>\n",
       "    </tr>\n",
       "    <tr>\n",
       "      <th>4</th>\n",
       "      <td>33.726656</td>\n",
       "      <td>1.000425</td>\n",
       "      <td>0.273869</td>\n",
       "      <td>0.020181</td>\n",
       "      <td>10</td>\n",
       "      <td>75</td>\n",
       "      <td>mean</td>\n",
       "      <td>{'randomforestclassifier__max_depth': 10, 'ran...</td>\n",
       "      <td>0.949565</td>\n",
       "      <td>0.946485</td>\n",
       "      <td>0.950489</td>\n",
       "      <td>0.951182</td>\n",
       "      <td>0.944710</td>\n",
       "      <td>0.948486</td>\n",
       "      <td>0.002478</td>\n",
       "      <td>19</td>\n",
       "    </tr>\n",
       "    <tr>\n",
       "      <th>5</th>\n",
       "      <td>31.945417</td>\n",
       "      <td>1.265109</td>\n",
       "      <td>0.252725</td>\n",
       "      <td>0.006451</td>\n",
       "      <td>10</td>\n",
       "      <td>75</td>\n",
       "      <td>median</td>\n",
       "      <td>{'randomforestclassifier__max_depth': 10, 'ran...</td>\n",
       "      <td>0.942327</td>\n",
       "      <td>0.940094</td>\n",
       "      <td>0.941634</td>\n",
       "      <td>0.945330</td>\n",
       "      <td>0.938857</td>\n",
       "      <td>0.941648</td>\n",
       "      <td>0.002201</td>\n",
       "      <td>22</td>\n",
       "    </tr>\n",
       "    <tr>\n",
       "      <th>6</th>\n",
       "      <td>12.524125</td>\n",
       "      <td>0.324582</td>\n",
       "      <td>0.126464</td>\n",
       "      <td>0.006351</td>\n",
       "      <td>20</td>\n",
       "      <td>25</td>\n",
       "      <td>mean</td>\n",
       "      <td>{'randomforestclassifier__max_depth': 20, 'ran...</td>\n",
       "      <td>0.994225</td>\n",
       "      <td>0.992608</td>\n",
       "      <td>0.995149</td>\n",
       "      <td>0.993994</td>\n",
       "      <td>0.993840</td>\n",
       "      <td>0.993963</td>\n",
       "      <td>0.000816</td>\n",
       "      <td>15</td>\n",
       "    </tr>\n",
       "    <tr>\n",
       "      <th>7</th>\n",
       "      <td>14.949642</td>\n",
       "      <td>0.354438</td>\n",
       "      <td>0.140625</td>\n",
       "      <td>0.008345</td>\n",
       "      <td>20</td>\n",
       "      <td>25</td>\n",
       "      <td>median</td>\n",
       "      <td>{'randomforestclassifier__max_depth': 20, 'ran...</td>\n",
       "      <td>0.992531</td>\n",
       "      <td>0.992454</td>\n",
       "      <td>0.994533</td>\n",
       "      <td>0.993455</td>\n",
       "      <td>0.994148</td>\n",
       "      <td>0.993424</td>\n",
       "      <td>0.000836</td>\n",
       "      <td>18</td>\n",
       "    </tr>\n",
       "    <tr>\n",
       "      <th>8</th>\n",
       "      <td>29.742904</td>\n",
       "      <td>0.671070</td>\n",
       "      <td>0.289826</td>\n",
       "      <td>0.043703</td>\n",
       "      <td>20</td>\n",
       "      <td>50</td>\n",
       "      <td>mean</td>\n",
       "      <td>{'randomforestclassifier__max_depth': 20, 'ran...</td>\n",
       "      <td>0.994379</td>\n",
       "      <td>0.993455</td>\n",
       "      <td>0.995765</td>\n",
       "      <td>0.994533</td>\n",
       "      <td>0.994995</td>\n",
       "      <td>0.994625</td>\n",
       "      <td>0.000758</td>\n",
       "      <td>14</td>\n",
       "    </tr>\n",
       "    <tr>\n",
       "      <th>9</th>\n",
       "      <td>30.103341</td>\n",
       "      <td>0.626320</td>\n",
       "      <td>0.264095</td>\n",
       "      <td>0.004250</td>\n",
       "      <td>20</td>\n",
       "      <td>50</td>\n",
       "      <td>median</td>\n",
       "      <td>{'randomforestclassifier__max_depth': 20, 'ran...</td>\n",
       "      <td>0.993917</td>\n",
       "      <td>0.992531</td>\n",
       "      <td>0.995149</td>\n",
       "      <td>0.993455</td>\n",
       "      <td>0.993994</td>\n",
       "      <td>0.993809</td>\n",
       "      <td>0.000849</td>\n",
       "      <td>17</td>\n",
       "    </tr>\n",
       "  </tbody>\n",
       "</table>\n",
       "</div>"
      ],
      "text/plain": [
       "   mean_fit_time  std_fit_time  mean_score_time  std_score_time  \\\n",
       "0      10.885505      0.273423         0.117088        0.014392   \n",
       "1      11.456180      0.453887         0.133245        0.034397   \n",
       "2      22.590225      0.459318         0.212230        0.015804   \n",
       "3      23.969734      0.322556         0.223004        0.048099   \n",
       "4      33.726656      1.000425         0.273869        0.020181   \n",
       "5      31.945417      1.265109         0.252725        0.006451   \n",
       "6      12.524125      0.324582         0.126464        0.006351   \n",
       "7      14.949642      0.354438         0.140625        0.008345   \n",
       "8      29.742904      0.671070         0.289826        0.043703   \n",
       "9      30.103341      0.626320         0.264095        0.004250   \n",
       "\n",
       "  param_randomforestclassifier__max_depth  \\\n",
       "0                                      10   \n",
       "1                                      10   \n",
       "2                                      10   \n",
       "3                                      10   \n",
       "4                                      10   \n",
       "5                                      10   \n",
       "6                                      20   \n",
       "7                                      20   \n",
       "8                                      20   \n",
       "9                                      20   \n",
       "\n",
       "  param_randomforestclassifier__n_estimators param_simpleimputer__strategy  \\\n",
       "0                                         25                          mean   \n",
       "1                                         25                        median   \n",
       "2                                         50                          mean   \n",
       "3                                         50                        median   \n",
       "4                                         75                          mean   \n",
       "5                                         75                        median   \n",
       "6                                         25                          mean   \n",
       "7                                         25                        median   \n",
       "8                                         50                          mean   \n",
       "9                                         50                        median   \n",
       "\n",
       "                                              params  split0_test_score  \\\n",
       "0  {'randomforestclassifier__max_depth': 10, 'ran...           0.944637   \n",
       "1  {'randomforestclassifier__max_depth': 10, 'ran...           0.938323   \n",
       "2  {'randomforestclassifier__max_depth': 10, 'ran...           0.948718   \n",
       "3  {'randomforestclassifier__max_depth': 10, 'ran...           0.941249   \n",
       "4  {'randomforestclassifier__max_depth': 10, 'ran...           0.949565   \n",
       "5  {'randomforestclassifier__max_depth': 10, 'ran...           0.942327   \n",
       "6  {'randomforestclassifier__max_depth': 20, 'ran...           0.994225   \n",
       "7  {'randomforestclassifier__max_depth': 20, 'ran...           0.992531   \n",
       "8  {'randomforestclassifier__max_depth': 20, 'ran...           0.994379   \n",
       "9  {'randomforestclassifier__max_depth': 20, 'ran...           0.993917   \n",
       "\n",
       "   split1_test_score  split2_test_score  split3_test_score  split4_test_score  \\\n",
       "0           0.941634           0.947794           0.948025           0.940936   \n",
       "1           0.936321           0.941942           0.943020           0.935700   \n",
       "2           0.945638           0.949334           0.949026           0.942939   \n",
       "3           0.939863           0.941403           0.943097           0.937856   \n",
       "4           0.946485           0.950489           0.951182           0.944710   \n",
       "5           0.940094           0.941634           0.945330           0.938857   \n",
       "6           0.992608           0.995149           0.993994           0.993840   \n",
       "7           0.992454           0.994533           0.993455           0.994148   \n",
       "8           0.993455           0.995765           0.994533           0.994995   \n",
       "9           0.992531           0.995149           0.993455           0.993994   \n",
       "\n",
       "   mean_test_score  std_test_score  rank_test_score  \n",
       "0         0.944605        0.002972               21  \n",
       "1         0.939061        0.002944               24  \n",
       "2         0.947131        0.002481               20  \n",
       "3         0.940694        0.001751               23  \n",
       "4         0.948486        0.002478               19  \n",
       "5         0.941648        0.002201               22  \n",
       "6         0.993963        0.000816               15  \n",
       "7         0.993424        0.000836               18  \n",
       "8         0.994625        0.000758               14  \n",
       "9         0.993809        0.000849               17  "
      ]
     },
     "execution_count": 66,
     "metadata": {},
     "output_type": "execute_result"
    }
   ],
   "source": [
    "cv_results = pd.DataFrame(model_rf.cv_results_)\n",
    "cv_results.head(10)"
   ]
  },
  {
   "cell_type": "markdown",
   "id": "699261b1-b1cb-4e5e-84ea-6d34e4bf1262",
   "metadata": {},
   "source": [
    "In addition to the accuracy scores for all the different models we tried during our grid search, we can see how long it took each model to train. Let's take a closer look at how different hyperparameter settings affect training time. \n",
    "\n",
    "First, we'll look at `n_estimators`. Our grid search evaluated this hyperparameter for various `max_depth` settings, but let's only look at models where `max_depth` equals 10."
   ]
  },
  {
   "cell_type": "markdown",
   "id": "daab0a16-ccbb-4fba-8fc7-215098ab73aa",
   "metadata": {},
   "source": [
    "**Task 5.3.12:** Create a mask for `cv_results` for rows where `\"param_randomforestclassifier__max_depth\"` equals 10. Then plot `\"param_randomforestclassifier__n_estimators\"` on the x-axis and `\"mean_fit_time\"` on the y-axis. Don't forget to label your axes and include a title."
   ]
  },
  {
   "cell_type": "code",
   "execution_count": 67,
   "id": "15a32077-4dee-44ee-81e9-75a409b9d104",
   "metadata": {},
   "outputs": [
    {
     "data": {
      "image/png": "[encoded data removed]",
      "text/plain": [
       "<Figure size 640x480 with 1 Axes>"
      ]
     },
     "metadata": {},
     "output_type": "display_data"
    }
   ],
   "source": [
    "# Create mask\n",
    "mask = cv_results['param_randomforestclassifier__max_depth'] == 10\n",
    "# Plot fit time vs n_estimators\n",
    "plt.plot(\n",
    "    cv_results[mask]['param_randomforestclassifier__n_estimators'],\n",
    "    cv_results[mask]['mean_fit_time']\n",
    ")\n",
    "# Label axes\n",
    "plt.xlabel(\"Number of Estimators\")\n",
    "plt.ylabel(\"Mean Fit Time [seconds]\")\n",
    "plt.title(\"Training Time vs Estimators (max_depth=10)\");"
   ]
  },
  {
   "cell_type": "markdown",
   "id": "93c27eb4-39cd-4af3-94cc-2732d64b66c4",
   "metadata": {},
   "source": [
    "**Task 5.3.13:** Create a mask for `cv_results` for rows where `\"param_randomforestclassifier__n_estimators\"` equals 25. Then plot `\"param_randomforestclassifier__max_depth\"` on the x-axis and `\"mean_fit_time\"` on the y-axis. Don't forget to label your axes and include a title. "
   ]
  },
  {
   "cell_type": "code",
   "execution_count": 68,
   "id": "3a21fe65-3c75-43cb-a6db-72b656d5c406",
   "metadata": {},
   "outputs": [
    {
     "data": {
      "image/png": "[encoded data removed]",
      "text/plain": [
       "<Figure size 640x480 with 1 Axes>"
      ]
     },
     "metadata": {},
     "output_type": "display_data"
    }
   ],
   "source": [
    "# Create mask\n",
    "mask = cv_results['param_randomforestclassifier__n_estimators'] == 25\n",
    "# Plot fit time vs max_depth\n",
    "plt.plot(\n",
    "    cv_results[mask]['param_randomforestclassifier__max_depth'],\n",
    "    cv_results[mask]['mean_fit_time']\n",
    ")\n",
    "# Label axes\n",
    "plt.xlabel(\"Max Depth\")\n",
    "plt.ylabel(\"Mean Fit Time [seconds]\")\n",
    "plt.title(\"Training Time vs Max Depth (n_estimators=25)\");"
   ]
  },
  {
   "cell_type": "markdown",
   "id": "3ef7af21-9cb9-41f9-b9cb-567bfd5ed880",
   "metadata": {},
   "source": [
    "There's a general upwards trend, but we see a lot of up-and-down here. That's because for each max depth, grid search tries two different imputation strategies: mean and median. Median is a lot faster to calculate, so that speeds up training time.\n",
    "\n",
    "Finally, let's look at the hyperparameters that led to the best performance."
   ]
  },
  {
   "cell_type": "code",
   "execution_count": 70,
   "id": "a64e8f54-f7e7-4222-aab0-f8d7afecf928",
   "metadata": {},
   "outputs": [
    {
     "data": {
      "text/plain": [
       "Pipeline(steps=[('simpleimputer', SimpleImputer(strategy='median')),\n",
       "                ('randomforestclassifier',\n",
       "                 RandomForestClassifier(max_depth=40, n_estimators=50,\n",
       "                                        random_state=42))])"
      ]
     },
     "execution_count": 70,
     "metadata": {},
     "output_type": "execute_result"
    }
   ],
   "source": [
    "# Extract best hyperparameters\n",
    "model_rf.best_estimator_"
   ]
  },
  {
   "cell_type": "markdown",
   "id": "f5ba1d5a-d3c4-4df4-9b0b-cc136e5a21dc",
   "metadata": {},
   "source": [
    "## Evaluate"
   ]
  },
  {
   "cell_type": "code",
   "execution_count": 71,
   "id": "63a8459b-9830-4bef-be71-04d746fd94ec",
   "metadata": {},
   "outputs": [
    {
     "name": "stdout",
     "output_type": "stream",
     "text": [
      "Training Accuracy: 1.0\n",
      "Test Accuracy: 0.9646\n"
     ]
    }
   ],
   "source": [
    "acc_train = model_rf.score(X_train, y_train)\n",
    "acc_test = model_rf.score(X_test, y_test)\n",
    "\n",
    "print(\"Training Accuracy:\", round(acc_train, 4))\n",
    "print(\"Test Accuracy:\", round(acc_test, 4))"
   ]
  },
  {
   "cell_type": "code",
   "execution_count": 72,
   "id": "e60394ff-747c-493a-a48b-99296799c8d2",
   "metadata": {},
   "outputs": [
    {
     "data": {
      "text/plain": [
       "0    8111\n",
       "1     415\n",
       "Name: class, dtype: int64"
      ]
     },
     "execution_count": 72,
     "metadata": {},
     "output_type": "execute_result"
    }
   ],
   "source": [
    "y_test.value_counts()"
   ]
  },
  {
   "cell_type": "code",
   "execution_count": 82,
   "id": "4de16c22-ef6a-4750-a2b5-1cde07d446f5",
   "metadata": {},
   "outputs": [
    {
     "data": {
      "text/plain": [
       "0    8359\n",
       "1     167\n",
       "dtype: int64"
      ]
     },
     "execution_count": 82,
     "metadata": {},
     "output_type": "execute_result"
    }
   ],
   "source": [
    "pd.Series(model_rf.predict(X_test)).value_counts()"
   ]
  },
  {
   "cell_type": "code",
   "execution_count": 74,
   "id": "e5b12324-7b45-4c5e-a3e5-f5b7e002cc9e",
   "metadata": {},
   "outputs": [
    {
     "data": {
      "image/png": "[encoded data removed]",
      "text/plain": [
       "<Figure size 640x480 with 2 Axes>"
      ]
     },
     "metadata": {},
     "output_type": "display_data"
    }
   ],
   "source": [
    "# Plot confusion matrix\n",
    "ConfusionMatrixDisplay.from_estimator(model_rf, X_test, y_test);"
   ]
  },
  {
   "cell_type": "markdown",
   "id": "ae498569-56be-47b0-85bd-7883b0beb5a8",
   "metadata": {},
   "source": [
    "## Communicate"
   ]
  },
  {
   "cell_type": "code",
   "execution_count": 76,
   "id": "c5cd91b8-a9b7-44c9-96e5-e1ab61d45c26",
   "metadata": {},
   "outputs": [
    {
     "data": {
      "image/png": "[encoded data removed]",
      "text/plain": [
       "<Figure size 640x480 with 1 Axes>"
      ]
     },
     "metadata": {},
     "output_type": "display_data"
    }
   ],
   "source": [
    "# Get feature names from training data\n",
    "features = X_train_over.columns\n",
    "# Extract importances from model\n",
    "importances = model_rf.best_estimator_.named_steps['randomforestclassifier'].feature_importances_\n",
    "# Create a series with feature names and importances\n",
    "feat_imp = pd.Series(importances, index=features).sort_values()\n",
    "# Plot 10 most important features\n",
    "feat_imp.tail(10).plot(kind='barh')\n",
    "plt.xlabel(\"Gini Importance\")\n",
    "plt.ylabel(\"Feature\")\n",
    "plt.title(\"Feature Importance\");"
   ]
  },
  {
   "cell_type": "code",
   "execution_count": 78,
   "id": "5649e76f-584c-4209-8638-87b0e85eded9",
   "metadata": {},
   "outputs": [],
   "source": [
    "with open('model-1-3.pkl', 'wb') as f:\n",
    "    pickle.dump(model_rf, f)"
   ]
  },
  {
   "cell_type": "code",
   "execution_count": 79,
   "id": "5c46c085-351c-4821-b533-c919a12ded67",
   "metadata": {},
   "outputs": [],
   "source": [
    "def make_predictions(data_filepath, model_filepath):\n",
    "    # Wrangle JSON file\n",
    "    X_test = wrangle(data_filepath)\n",
    "    # Load model\n",
    "    with open(model_filepath, 'rb') as f:\n",
    "        model = pickle.load(f)\n",
    "    # Generate predictions\n",
    "    y_test_pred = model.predict(X_test)\n",
    "    # Put predictions into Series with name \"bankrupt\", and same index as X_test\n",
    "    y_test_pred = pd.Series(y_test_pred, index=X_test.index, name='bankrupt')\n",
    "    return y_test_pred"
   ]
  },
  {
   "cell_type": "code",
   "execution_count": null,
   "id": "6934de27-9113-4c67-9729-b3eddebc84b9",
   "metadata": {},
   "outputs": [],
   "source": [
    "y_test_pred = make_predictions(\n",
    "    data_filepath=\"data/poland-bankruptcy-data-2009-mvp-features.json.gz\",\n",
    "    model_filepath=\"model-5-3.pkl\",\n",
    ")\n",
    "\n",
    "print(\"predictions shape:\", y_test_pred.shape)\n",
    "y_test_pred.head()"
   ]
  },
  {
   "cell_type": "markdown",
   "id": "a520a2c9-43de-44c4-8978-bed8a6199188",
   "metadata": {},
   "source": [
    "### Gradient Boosting Classifier"
   ]
  },
  {
   "cell_type": "code",
   "execution_count": 118,
   "id": "2038980d-5d94-424e-be63-6f59f2ee5052",
   "metadata": {},
   "outputs": [],
   "source": [
    "from sklearn.ensemble import GradientBoostingClassifier\n",
    "from ipywidgets import widgets, interact\n",
    "from sklearn.metrics import (\n",
    "    ConfusionMatrixDisplay,\n",
    "    classification_report,\n",
    "    confusion_matrix,\n",
    ")\n",
    "from teaching_tools.widgets import ConfusionMatrixWidget"
   ]
  },
  {
   "cell_type": "markdown",
   "id": "c0ed5899-49ca-4621-9857-eaad0ecac56f",
   "metadata": {},
   "source": [
    "## Iterate"
   ]
  },
  {
   "cell_type": "code",
   "execution_count": 92,
   "id": "1a9792fb-6647-4ff9-a590-43793ac3f2e8",
   "metadata": {},
   "outputs": [
    {
     "name": "stdout",
     "output_type": "stream",
     "text": [
      "Pipeline(steps=[('simpleimputer', SimpleImputer()),\n",
      "                ('gradientboostingclassifier', GradientBoostingClassifier())])\n"
     ]
    }
   ],
   "source": [
    "clf_gr = make_pipeline(\n",
    "    SimpleImputer(),\n",
    "    GradientBoostingClassifier()\n",
    ")\n",
    "print(clf_gr)"
   ]
  },
  {
   "cell_type": "markdown",
   "id": "47a8fbf7-e184-4d88-8e56-e008a48197a0",
   "metadata": {},
   "source": [
    "Remember while we're doing this that we only want to be looking at the positive class. Here, the positive class is the one where the companies really did go bankrupt. In the dictionary we made last time, the positive class is made up of the companies with the bankrupt: true key-value pair.\n",
    "\n",
    "Next, we're going to tune some of the hyperparameters for our model."
   ]
  },
  {
   "cell_type": "code",
   "execution_count": 90,
   "id": "11e0ea09-4fea-4d47-a200-eece3817c980",
   "metadata": {},
   "outputs": [
    {
     "data": {
      "text/plain": [
       "{'simpleimputer__strategy': ['mean', 'median'],\n",
       " 'gradientboostingclassifier__n_estimators': range(20, 31, 5),\n",
       " 'gradientboostingclassifier__max_depth': range(2, 5)}"
      ]
     },
     "execution_count": 90,
     "metadata": {},
     "output_type": "execute_result"
    }
   ],
   "source": [
    "params_g = {\n",
    "    'simpleimputer__strategy': ['mean', 'median'],\n",
    "    'gradientboostingclassifier__n_estimators': range(20, 31, 5),\n",
    "    'gradientboostingclassifier__max_depth': range(2, 5)\n",
    "}\n",
    "params_g"
   ]
  },
  {
   "cell_type": "markdown",
   "id": "97c19694-1ebe-4418-8986-b40a9585b6d5",
   "metadata": {},
   "source": [
    "Note that we're trying much smaller numbers of n_estimators. This is because GradientBoostingClassifier is slower to train than the RandomForestClassifier. You can try increasing the number of estimators to see if model performance improves, but keep in mind that you could be waiting a long time!"
   ]
  },
  {
   "cell_type": "code",
   "execution_count": 94,
   "id": "7c093ec0-f08c-41e3-8baf-823622068c11",
   "metadata": {},
   "outputs": [
    {
     "data": {
      "text/plain": [
       "GridSearchCV(cv=5,\n",
       "             estimator=Pipeline(steps=[('simpleimputer', SimpleImputer()),\n",
       "                                       ('gradientboostingclassifier',\n",
       "                                        GradientBoostingClassifier())]),\n",
       "             n_jobs=-1,\n",
       "             param_grid={'gradientboostingclassifier__max_depth': range(2, 5),\n",
       "                         'gradientboostingclassifier__n_estimators': range(20, 31, 5),\n",
       "                         'simpleimputer__strategy': ['mean', 'median']},\n",
       "             verbose=1)"
      ]
     },
     "execution_count": 94,
     "metadata": {},
     "output_type": "execute_result"
    }
   ],
   "source": [
    "model_gr = GridSearchCV(\n",
    "    clf_gr, param_grid=params_g,\n",
    "    cv=5, \n",
    "    n_jobs=-1, \n",
    "    verbose=1)\n",
    "model_gr"
   ]
  },
  {
   "cell_type": "code",
   "execution_count": 95,
   "id": "31f14424-fc87-4b6f-8201-3cc7f2771322",
   "metadata": {},
   "outputs": [
    {
     "name": "stdout",
     "output_type": "stream",
     "text": [
      "Fitting 5 folds for each of 18 candidates, totalling 90 fits\n"
     ]
    },
    {
     "data": {
      "text/plain": [
       "GridSearchCV(cv=5,\n",
       "             estimator=Pipeline(steps=[('simpleimputer', SimpleImputer()),\n",
       "                                       ('gradientboostingclassifier',\n",
       "                                        GradientBoostingClassifier())]),\n",
       "             n_jobs=-1,\n",
       "             param_grid={'gradientboostingclassifier__max_depth': range(2, 5),\n",
       "                         'gradientboostingclassifier__n_estimators': range(20, 31, 5),\n",
       "                         'simpleimputer__strategy': ['mean', 'median']},\n",
       "             verbose=1)"
      ]
     },
     "execution_count": 95,
     "metadata": {},
     "output_type": "execute_result"
    }
   ],
   "source": [
    "model_gr.fit(X_train_over, y_train_over)"
   ]
  },
  {
   "cell_type": "markdown",
   "id": "6d733b56-037b-4619-90c3-7c7b525506c7",
   "metadata": {},
   "source": [
    "**Task 5.4.10:** Extract the cross-validation results from `model` and load them into a DataFrame named `cv_results`.\n",
    "\n",
    "- Get cross-validation results from a hyperparameter search in scikit-learn."
   ]
  },
  {
   "cell_type": "code",
   "execution_count": 98,
   "id": "56ef1a7f-a6f0-4e18-af5f-0ed5e696580c",
   "metadata": {},
   "outputs": [
    {
     "data": {
      "text/html": [
       "<div>\n",
       "<style scoped>\n",
       "    .dataframe tbody tr th:only-of-type {\n",
       "        vertical-align: middle;\n",
       "    }\n",
       "\n",
       "    .dataframe tbody tr th {\n",
       "        vertical-align: top;\n",
       "    }\n",
       "\n",
       "    .dataframe thead th {\n",
       "        text-align: right;\n",
       "    }\n",
       "</style>\n",
       "<table border=\"1\" class=\"dataframe\">\n",
       "  <thead>\n",
       "    <tr style=\"text-align: right;\">\n",
       "      <th></th>\n",
       "      <th>mean_fit_time</th>\n",
       "      <th>std_fit_time</th>\n",
       "      <th>mean_score_time</th>\n",
       "      <th>std_score_time</th>\n",
       "      <th>param_gradientboostingclassifier__max_depth</th>\n",
       "      <th>param_gradientboostingclassifier__n_estimators</th>\n",
       "      <th>param_simpleimputer__strategy</th>\n",
       "      <th>params</th>\n",
       "      <th>split0_test_score</th>\n",
       "      <th>split1_test_score</th>\n",
       "      <th>split2_test_score</th>\n",
       "      <th>split3_test_score</th>\n",
       "      <th>split4_test_score</th>\n",
       "      <th>mean_test_score</th>\n",
       "      <th>std_test_score</th>\n",
       "      <th>rank_test_score</th>\n",
       "    </tr>\n",
       "  </thead>\n",
       "  <tbody>\n",
       "    <tr>\n",
       "      <th>17</th>\n",
       "      <td>66.821603</td>\n",
       "      <td>6.304434</td>\n",
       "      <td>0.050665</td>\n",
       "      <td>0.018662</td>\n",
       "      <td>4</td>\n",
       "      <td>30</td>\n",
       "      <td>median</td>\n",
       "      <td>{'gradientboostingclassifier__max_depth': 4, '...</td>\n",
       "      <td>0.875953</td>\n",
       "      <td>0.877493</td>\n",
       "      <td>0.875260</td>\n",
       "      <td>0.879418</td>\n",
       "      <td>0.869552</td>\n",
       "      <td>0.875535</td>\n",
       "      <td>0.003315</td>\n",
       "      <td>1</td>\n",
       "    </tr>\n",
       "    <tr>\n",
       "      <th>16</th>\n",
       "      <td>67.694869</td>\n",
       "      <td>2.806377</td>\n",
       "      <td>0.057846</td>\n",
       "      <td>0.013126</td>\n",
       "      <td>4</td>\n",
       "      <td>30</td>\n",
       "      <td>mean</td>\n",
       "      <td>{'gradientboostingclassifier__max_depth': 4, '...</td>\n",
       "      <td>0.876415</td>\n",
       "      <td>0.873104</td>\n",
       "      <td>0.878340</td>\n",
       "      <td>0.870255</td>\n",
       "      <td>0.867781</td>\n",
       "      <td>0.873179</td>\n",
       "      <td>0.003868</td>\n",
       "      <td>2</td>\n",
       "    </tr>\n",
       "    <tr>\n",
       "      <th>15</th>\n",
       "      <td>59.066928</td>\n",
       "      <td>1.871285</td>\n",
       "      <td>0.047075</td>\n",
       "      <td>0.001716</td>\n",
       "      <td>4</td>\n",
       "      <td>25</td>\n",
       "      <td>median</td>\n",
       "      <td>{'gradientboostingclassifier__max_depth': 4, '...</td>\n",
       "      <td>0.869639</td>\n",
       "      <td>0.870332</td>\n",
       "      <td>0.872180</td>\n",
       "      <td>0.870794</td>\n",
       "      <td>0.862082</td>\n",
       "      <td>0.869005</td>\n",
       "      <td>0.003560</td>\n",
       "      <td>3</td>\n",
       "    </tr>\n",
       "    <tr>\n",
       "      <th>14</th>\n",
       "      <td>57.631762</td>\n",
       "      <td>3.486530</td>\n",
       "      <td>0.046875</td>\n",
       "      <td>0.009031</td>\n",
       "      <td>4</td>\n",
       "      <td>25</td>\n",
       "      <td>mean</td>\n",
       "      <td>{'gradientboostingclassifier__max_depth': 4, '...</td>\n",
       "      <td>0.868330</td>\n",
       "      <td>0.865635</td>\n",
       "      <td>0.872026</td>\n",
       "      <td>0.869254</td>\n",
       "      <td>0.861620</td>\n",
       "      <td>0.867373</td>\n",
       "      <td>0.003528</td>\n",
       "      <td>4</td>\n",
       "    </tr>\n",
       "    <tr>\n",
       "      <th>12</th>\n",
       "      <td>47.285414</td>\n",
       "      <td>0.230870</td>\n",
       "      <td>0.057646</td>\n",
       "      <td>0.018469</td>\n",
       "      <td>4</td>\n",
       "      <td>20</td>\n",
       "      <td>mean</td>\n",
       "      <td>{'gradientboostingclassifier__max_depth': 4, '...</td>\n",
       "      <td>0.857011</td>\n",
       "      <td>0.860476</td>\n",
       "      <td>0.861246</td>\n",
       "      <td>0.862093</td>\n",
       "      <td>0.854151</td>\n",
       "      <td>0.858995</td>\n",
       "      <td>0.002975</td>\n",
       "      <td>5</td>\n",
       "    </tr>\n",
       "    <tr>\n",
       "      <th>13</th>\n",
       "      <td>48.530091</td>\n",
       "      <td>2.310555</td>\n",
       "      <td>0.045878</td>\n",
       "      <td>0.003837</td>\n",
       "      <td>4</td>\n",
       "      <td>20</td>\n",
       "      <td>median</td>\n",
       "      <td>{'gradientboostingclassifier__max_depth': 4, '...</td>\n",
       "      <td>0.859783</td>\n",
       "      <td>0.854162</td>\n",
       "      <td>0.860091</td>\n",
       "      <td>0.859398</td>\n",
       "      <td>0.851917</td>\n",
       "      <td>0.857070</td>\n",
       "      <td>0.003374</td>\n",
       "      <td>6</td>\n",
       "    </tr>\n",
       "    <tr>\n",
       "      <th>10</th>\n",
       "      <td>54.535041</td>\n",
       "      <td>1.398771</td>\n",
       "      <td>0.060240</td>\n",
       "      <td>0.024377</td>\n",
       "      <td>3</td>\n",
       "      <td>30</td>\n",
       "      <td>mean</td>\n",
       "      <td>{'gradientboostingclassifier__max_depth': 3, '...</td>\n",
       "      <td>0.840533</td>\n",
       "      <td>0.840379</td>\n",
       "      <td>0.844460</td>\n",
       "      <td>0.844768</td>\n",
       "      <td>0.834745</td>\n",
       "      <td>0.840977</td>\n",
       "      <td>0.003630</td>\n",
       "      <td>7</td>\n",
       "    </tr>\n",
       "    <tr>\n",
       "      <th>8</th>\n",
       "      <td>39.865849</td>\n",
       "      <td>1.704658</td>\n",
       "      <td>0.041490</td>\n",
       "      <td>0.001620</td>\n",
       "      <td>3</td>\n",
       "      <td>25</td>\n",
       "      <td>mean</td>\n",
       "      <td>{'gradientboostingclassifier__max_depth': 3, '...</td>\n",
       "      <td>0.830677</td>\n",
       "      <td>0.833911</td>\n",
       "      <td>0.835066</td>\n",
       "      <td>0.836606</td>\n",
       "      <td>0.823425</td>\n",
       "      <td>0.831937</td>\n",
       "      <td>0.004680</td>\n",
       "      <td>8</td>\n",
       "    </tr>\n",
       "    <tr>\n",
       "      <th>11</th>\n",
       "      <td>55.714490</td>\n",
       "      <td>1.490586</td>\n",
       "      <td>0.059441</td>\n",
       "      <td>0.009946</td>\n",
       "      <td>3</td>\n",
       "      <td>30</td>\n",
       "      <td>median</td>\n",
       "      <td>{'gradientboostingclassifier__max_depth': 3, '...</td>\n",
       "      <td>0.831062</td>\n",
       "      <td>0.826981</td>\n",
       "      <td>0.835220</td>\n",
       "      <td>0.833064</td>\n",
       "      <td>0.824195</td>\n",
       "      <td>0.830104</td>\n",
       "      <td>0.004013</td>\n",
       "      <td>9</td>\n",
       "    </tr>\n",
       "    <tr>\n",
       "      <th>6</th>\n",
       "      <td>35.530436</td>\n",
       "      <td>0.148611</td>\n",
       "      <td>0.041291</td>\n",
       "      <td>0.002931</td>\n",
       "      <td>3</td>\n",
       "      <td>20</td>\n",
       "      <td>mean</td>\n",
       "      <td>{'gradientboostingclassifier__max_depth': 3, '...</td>\n",
       "      <td>0.826827</td>\n",
       "      <td>0.825518</td>\n",
       "      <td>0.825287</td>\n",
       "      <td>0.829599</td>\n",
       "      <td>0.818189</td>\n",
       "      <td>0.825084</td>\n",
       "      <td>0.003773</td>\n",
       "      <td>10</td>\n",
       "    </tr>\n",
       "  </tbody>\n",
       "</table>\n",
       "</div>"
      ],
      "text/plain": [
       "    mean_fit_time  std_fit_time  mean_score_time  std_score_time  \\\n",
       "17      66.821603      6.304434         0.050665        0.018662   \n",
       "16      67.694869      2.806377         0.057846        0.013126   \n",
       "15      59.066928      1.871285         0.047075        0.001716   \n",
       "14      57.631762      3.486530         0.046875        0.009031   \n",
       "12      47.285414      0.230870         0.057646        0.018469   \n",
       "13      48.530091      2.310555         0.045878        0.003837   \n",
       "10      54.535041      1.398771         0.060240        0.024377   \n",
       "8       39.865849      1.704658         0.041490        0.001620   \n",
       "11      55.714490      1.490586         0.059441        0.009946   \n",
       "6       35.530436      0.148611         0.041291        0.002931   \n",
       "\n",
       "   param_gradientboostingclassifier__max_depth  \\\n",
       "17                                           4   \n",
       "16                                           4   \n",
       "15                                           4   \n",
       "14                                           4   \n",
       "12                                           4   \n",
       "13                                           4   \n",
       "10                                           3   \n",
       "8                                            3   \n",
       "11                                           3   \n",
       "6                                            3   \n",
       "\n",
       "   param_gradientboostingclassifier__n_estimators  \\\n",
       "17                                             30   \n",
       "16                                             30   \n",
       "15                                             25   \n",
       "14                                             25   \n",
       "12                                             20   \n",
       "13                                             20   \n",
       "10                                             30   \n",
       "8                                              25   \n",
       "11                                             30   \n",
       "6                                              20   \n",
       "\n",
       "   param_simpleimputer__strategy  \\\n",
       "17                        median   \n",
       "16                          mean   \n",
       "15                        median   \n",
       "14                          mean   \n",
       "12                          mean   \n",
       "13                        median   \n",
       "10                          mean   \n",
       "8                           mean   \n",
       "11                        median   \n",
       "6                           mean   \n",
       "\n",
       "                                               params  split0_test_score  \\\n",
       "17  {'gradientboostingclassifier__max_depth': 4, '...           0.875953   \n",
       "16  {'gradientboostingclassifier__max_depth': 4, '...           0.876415   \n",
       "15  {'gradientboostingclassifier__max_depth': 4, '...           0.869639   \n",
       "14  {'gradientboostingclassifier__max_depth': 4, '...           0.868330   \n",
       "12  {'gradientboostingclassifier__max_depth': 4, '...           0.857011   \n",
       "13  {'gradientboostingclassifier__max_depth': 4, '...           0.859783   \n",
       "10  {'gradientboostingclassifier__max_depth': 3, '...           0.840533   \n",
       "8   {'gradientboostingclassifier__max_depth': 3, '...           0.830677   \n",
       "11  {'gradientboostingclassifier__max_depth': 3, '...           0.831062   \n",
       "6   {'gradientboostingclassifier__max_depth': 3, '...           0.826827   \n",
       "\n",
       "    split1_test_score  split2_test_score  split3_test_score  \\\n",
       "17           0.877493           0.875260           0.879418   \n",
       "16           0.873104           0.878340           0.870255   \n",
       "15           0.870332           0.872180           0.870794   \n",
       "14           0.865635           0.872026           0.869254   \n",
       "12           0.860476           0.861246           0.862093   \n",
       "13           0.854162           0.860091           0.859398   \n",
       "10           0.840379           0.844460           0.844768   \n",
       "8            0.833911           0.835066           0.836606   \n",
       "11           0.826981           0.835220           0.833064   \n",
       "6            0.825518           0.825287           0.829599   \n",
       "\n",
       "    split4_test_score  mean_test_score  std_test_score  rank_test_score  \n",
       "17           0.869552         0.875535        0.003315                1  \n",
       "16           0.867781         0.873179        0.003868                2  \n",
       "15           0.862082         0.869005        0.003560                3  \n",
       "14           0.861620         0.867373        0.003528                4  \n",
       "12           0.854151         0.858995        0.002975                5  \n",
       "13           0.851917         0.857070        0.003374                6  \n",
       "10           0.834745         0.840977        0.003630                7  \n",
       "8            0.823425         0.831937        0.004680                8  \n",
       "11           0.824195         0.830104        0.004013                9  \n",
       "6            0.818189         0.825084        0.003773               10  "
      ]
     },
     "execution_count": 98,
     "metadata": {},
     "output_type": "execute_result"
    }
   ],
   "source": [
    "results = pd.DataFrame(model_gr.cv_results_)\n",
    "results.sort_values(\"rank_test_score\").head(10)"
   ]
  },
  {
   "cell_type": "markdown",
   "id": "794681df-b38e-4002-9f8f-c35b08d20ad2",
   "metadata": {},
   "source": [
    "**Task 5.4.11:** Extract the best hyperparameters from `model`.\n",
    "\n",
    "- [Get settings from a hyperparameter search in scikit-learn.](../%40textbook/14-ml-classification.ipynb#Grid-Search)"
   ]
  },
  {
   "cell_type": "code",
   "execution_count": 100,
   "id": "a9db1686-543d-4ef5-80fe-d703be4191fb",
   "metadata": {},
   "outputs": [
    {
     "data": {
      "text/plain": [
       "{'gradientboostingclassifier__max_depth': 4,\n",
       " 'gradientboostingclassifier__n_estimators': 30,\n",
       " 'simpleimputer__strategy': 'median'}"
      ]
     },
     "execution_count": 100,
     "metadata": {},
     "output_type": "execute_result"
    }
   ],
   "source": [
    "# Extract best hyperparameters\n",
    "model_gr.best_params_"
   ]
  },
  {
   "cell_type": "markdown",
   "id": "5581ea58-df85-4d2c-95e2-09430187010d",
   "metadata": {},
   "source": [
    "## Evaluate"
   ]
  },
  {
   "cell_type": "code",
   "execution_count": 102,
   "id": "e2b24220-c81b-4a72-9e16-4a5d07368dd2",
   "metadata": {},
   "outputs": [
    {
     "name": "stdout",
     "output_type": "stream",
     "text": [
      "Training Accuracy: 0.8735\n",
      "Validation Accuracy: 0.8704\n"
     ]
    }
   ],
   "source": [
    "acc_train = model_gr.score(X_train, y_train)\n",
    "acc_test = model_gr.score(X_test, y_test)\n",
    "\n",
    "print(\"Training Accuracy:\", round(acc_train, 4))\n",
    "print(\"Validation Accuracy:\", round(acc_test, 4))"
   ]
  },
  {
   "cell_type": "code",
   "execution_count": 109,
   "id": "4d25ca88-c0e1-4150-93e5-115ad74a23c3",
   "metadata": {},
   "outputs": [
    {
     "data": {
      "image/png": "[encoded data removed]",
      "text/plain": [
       "<Figure size 640x480 with 2 Axes>"
      ]
     },
     "metadata": {},
     "output_type": "display_data"
    }
   ],
   "source": [
    "# Plot confusion matrix\n",
    "ConfusionMatrixDisplay.from_estimator(model_gr, X_test, y_test);"
   ]
  },
  {
   "cell_type": "markdown",
   "id": "09eb7800-3fcc-4a0d-bce7-95f569b7a7b0",
   "metadata": {},
   "source": [
    "This matrix is a great reminder of how imbalanced our data is, and of why accuracy isn't always the best metric for judging whether or not a model is giving us what we want. After all, if 95% of the companies in our dataset didn't go bankrupt, all the model has to do is always predict `{\"bankrupt\": False}`, and it'll be right 95% of the time. The accuracy score will be amazing, but it won't tell us what we really need to know.\n",
    "\n",
    "Instead, we can evaluate our model using two new metrics: **precision** and **recall**.  The precision score is important when we want our model to only predict that a company will go bankrupt if its very confident in its prediction. The *recall* score is important if we want to make sure to identify all the companies that will go bankrupt, even if that means being incorrect sometimes. \n",
    "\n",
    "Let's start with a report you can create with scikit-learn to calculate both metrics. Then we'll look at them one-by-one using a visualization tool we've built especially for the Data Science Lab."
   ]
  },
  {
   "cell_type": "code",
   "execution_count": 106,
   "id": "0bf7cb6e-eaec-45b1-a5f5-34e834becb29",
   "metadata": {},
   "outputs": [
    {
     "name": "stdout",
     "output_type": "stream",
     "text": [
      "              precision    recall  f1-score   support\n",
      "\n",
      "           0       0.99      0.87      0.93      8111\n",
      "           1       0.25      0.83      0.38       415\n",
      "\n",
      "    accuracy                           0.87      8526\n",
      "   macro avg       0.62      0.85      0.66      8526\n",
      "weighted avg       0.95      0.87      0.90      8526\n",
      "\n"
     ]
    }
   ],
   "source": [
    "# Print classification report\n",
    "cls = classification_report(y_test, model_gr.predict(X_test))\n",
    "print(cls)"
   ]
  },
  {
   "cell_type": "code",
   "execution_count": 115,
   "id": "ecc09aa7-20fc-469f-b931-c736764b5327",
   "metadata": {},
   "outputs": [
    {
     "data": {
      "application/vnd.jupyter.widget-view+json": {
       "model_id": "2d12422781aa4fa9a64a1b93a0a032ac",
       "version_major": 2,
       "version_minor": 0
      },
      "text/plain": [
       "FloatSlider(value=0.5, continuous_update=False, description='Threshold:', max=1.0)"
      ]
     },
     "metadata": {},
     "output_type": "display_data"
    },
    {
     "data": {
      "application/vnd.jupyter.widget-view+json": {
       "model_id": "70be2631d8204742abab79c5f4c1aa2e",
       "version_major": 2,
       "version_minor": 0
      },
      "text/plain": [
       "HBox(children=(Output(layout=Layout(height='300px', width='300px')), VBox(children=(Output(layout=Layout(heigh…"
      ]
     },
     "metadata": {},
     "output_type": "display_data"
    }
   ],
   "source": [
    "c = ConfusionMatrixWidget(model_gr, X_test, y_test)\n",
    "c.show()"
   ]
  },
  {
   "cell_type": "markdown",
   "id": "5474e432-68c1-420c-a139-d1a681fbf70e",
   "metadata": {},
   "source": [
    "If you move the probability threshold, you can see that there's a tradeoff between precision and recall. That is, as one gets better, the other suffers. As a data scientist, you'll often need to decide whether you want a model with better precision or better recall. What you choose will depend on how to intend to use your model.\n",
    "\n",
    "Let's look at two examples, one where recall is the priority and one where precision is more important. First, let's say you work for a regulatory agency in the European Union that assists companies and investors navigate [insolvency proceedings](https://en.wikipedia.org/wiki/Insolvency_Regulation). You want to build a model to predict which companies could go bankrupt so that you can send debtors information about filing for legal protection before their company becomes insolvent. The administrative costs of sending information to a company is €500. The legal costs to the European court system if a company doesn't file for protection before bankruptcy is €50,000.\n",
    "\n",
    "For a model like this, we want to focus on **recall**, because recall is all about *quantity*. A model that prioritizes recall will cast the widest possible net, which is the way to approach this problem. We want to send information to as many potentially-bankrupt companies as possible, because it costs a lot less to send information to a company that might not become insolvent than it does to skip a company that does. "
   ]
  },
  {
   "cell_type": "code",
   "execution_count": 116,
   "id": "ea7970c4-cb8e-4da9-a3a7-f28b340b82a1",
   "metadata": {},
   "outputs": [
    {
     "data": {
      "application/vnd.jupyter.widget-view+json": {
       "model_id": "599d9f735c724897aa17fb41107f653a",
       "version_major": 2,
       "version_minor": 0
      },
      "text/plain": [
       "FloatSlider(value=0.5, continuous_update=False, description='Threshold:', max=1.0)"
      ]
     },
     "metadata": {},
     "output_type": "display_data"
    },
    {
     "data": {
      "application/vnd.jupyter.widget-view+json": {
       "model_id": "f16b0c7e72bc42b4b09d6f00f70f46bd",
       "version_major": 2,
       "version_minor": 0
      },
      "text/plain": [
       "HBox(children=(Output(layout=Layout(height='300px', width='300px')), VBox(children=(Output(layout=Layout(heigh…"
      ]
     },
     "metadata": {},
     "output_type": "display_data"
    }
   ],
   "source": [
    "c.show_eu()"
   ]
  },
  {
   "cell_type": "markdown",
   "id": "90b8b44c-ec87-47f5-830a-c3f1b383498e",
   "metadata": {},
   "source": [
    "For the second example, let's say we work at a private equity firm that purchases distressed businesses, improve them, and then sells them for a profit. You want to build a model to predict which companies will go bankrupt so that you can purchase them ahead of your competitors. If the firm purchases a company that is indeed insolvent, it can make a profit of €100 million or more. But if it purchases a company that isn't insolvent and can't be resold at a profit, the firm will lose €250 million.\n",
    "\n",
    "For a model like this, we want to focus on precision. If we're trying to maximize our profit, the quality of our predictions is much more important than the quantity of our predictions. It's not a big deal if we don't catch every single insolvent company, but it's definitely a big deal if the companies we catch don't end up becoming insolvent.\n",
    "\n",
    "This time we're going to build the visualization together."
   ]
  },
  {
   "cell_type": "markdown",
   "id": "e36536ec-0f5b-4d6e-995b-72bf3d1ea33d",
   "metadata": {},
   "source": [
    "**Task 5.4.17:** Create an interactive dashboard that shows how company profit and losses change in relationship to your model's probability threshold. Start with the `make_cnf_matrix` function, which should calculate and print profit/losses, and display a confusion matrix. Then create a FloatSlider `thresh_widget` that ranges from 0 to 1. Finally combine your function and slider in the `interact` function."
   ]
  },
  {
   "cell_type": "code",
   "execution_count": 120,
   "id": "68a4cd46-2daf-45fd-bb7e-6be546b72b79",
   "metadata": {},
   "outputs": [
    {
     "data": {
      "application/vnd.jupyter.widget-view+json": {
       "model_id": "bbf2974db0d944a5991fc8dba9b753b1",
       "version_major": 2,
       "version_minor": 0
      },
      "text/plain": [
       "interactive(children=(FloatSlider(value=0.5, description='threshold', max=1.0, step=0.05), Output()), _dom_cla…"
      ]
     },
     "metadata": {},
     "output_type": "display_data"
    }
   ],
   "source": [
    "def make_cnf_matrix(threshold):\n",
    "    y_pred_proba = model_gr.predict_proba(X_test)[:, -1]\n",
    "    y_pred = y_pred_proba > threshold\n",
    "    conf_matrix = confusion_matrix(y_test, y_pred)\n",
    "    tn, fp, fn, tp = conf_matrix.ravel()\n",
    "    print(f'Profit: €{tp * 100_000_000}')\n",
    "    print(f'Losses: €{fp * 250_000_000}')\n",
    "    ConfusionMatrixDisplay.from_predictions(y_test, y_pred, colorbar=False)\n",
    "thresh_widget = widgets.FloatSlider(min=0, max=1, value=0.5, step=0.05)\n",
    "\n",
    "interact(make_cnf_matrix, threshold=thresh_widget);"
   ]
  },
  {
   "cell_type": "markdown",
   "id": "de9b1308-1b9e-4588-94e1-9797e241bda0",
   "metadata": {},
   "source": [
    "## Communicate"
   ]
  },
  {
   "cell_type": "code",
   "execution_count": null,
   "id": "9e573e10-bfd8-4126-9faf-ad7d8183bd2d",
   "metadata": {},
   "outputs": [],
   "source": [
    "# Save model\n",
    "with open(\"model-5-4.pkl\", 'wb') as f:\n",
    "    pickle.dump(model_gr, f)"
   ]
  },
  {
   "cell_type": "code",
   "execution_count": null,
   "id": "a2667362-2ac9-4419-adf8-a872102f5a2e",
   "metadata": {},
   "outputs": [],
   "source": [
    "%%bash\n",
    "\n",
    "cat my_predictor.py"
   ]
  },
  {
   "cell_type": "code",
   "execution_count": null,
   "id": "1c2d657d-0174-42bd-ae26-8ab9b75378f5",
   "metadata": {},
   "outputs": [],
   "source": [
    "# Import your module\n",
    "from my_predictor_lesson import make_predictions\n",
    "\n",
    "# Generate predictions\n",
    "y_test_pred = make_predictions(\n",
    "    data_filepath=\"data/poland-bankruptcy-data-2009-mvp-features.json.gz\",\n",
    "    model_filepath=\"model-5-4.pkl\",\n",
    ")\n",
    "\n",
    "print(\"predictions shape:\", y_test_pred.shape)\n",
    "y_test_pred.head()"
   ]
  }
 ],
 "metadata": {
  "kernelspec": {
   "display_name": "Python 3 (ipykernel)",
   "language": "python",
   "name": "python3"
  },
  "language_info": {
   "codemirror_mode": {
    "name": "ipython",
    "version": 3
   },
   "file_extension": ".py",
   "mimetype": "text/x-python",
   "name": "python",
   "nbconvert_exporter": "python",
   "pygments_lexer": "ipython3",
   "version": "3.9.13"
  }
 },
 "nbformat": 4,
 "nbformat_minor": 5
}
